{
 "cells": [
  {
   "cell_type": "markdown",
   "metadata": {},
   "source": [
    "# Unit 7 - Final Project\n",
    "\n",
    "\n",
    "**This is the end of the Bootcamp and the beginning of your career in Data Analytics!** \n",
    "You now are prepared to complete a full-circle Data Analysis project going through all the process and applying what we've studied in the course. We'll provide some resources to work with datasets or you can propose your own according to your particular goals.\n",
    "\n",
    "**You will choose a challenge and present a plan**:\n",
    "\n",
    "- you will scope the work you can do in one unit\n",
    "- you will strategically choose the project to include in your portfolio\n",
    "- you will self-manage throughout the process to present the project to an external jury.\n",
    "- you will present the project professionally in front of a technical // non-technical audience.\n",
    "- you will describe the methods used in the project and provide documentation to make the work accessible.\n",
    "\n",
    "### **After this unit, you will be able to:**\n",
    "\n",
    "1. Apply agile Project Management to deliver results\n",
    "   - Use a Kanban Board to self-manage your projects\n",
    "   - Prioritize project features/milestones to ensure value delivery\n",
    "   - Define the project strategically, using a lean approach\n",
    "2. Present a professional project\n",
    "   - Produce documentation to make the project accessible\n",
    "   - Present your project to an audience, accommodating your script to constraints (time, audience, etc.)\n",
    "   - Build engaging presentations\n",
    "   - Include storytelling to your presentations\n",
    "3. Go through the whole Data Analysis process on your own, without much support.\n",
    "4. Use Python, SQL, PowerBI and other tools to engineer the project.\n",
    "   - ...\n",
    "5. Perform Exploratory Data Analysis\n",
    "   - Fit the model\n",
    "   - Check accuracy of the model (exploring _Variance vs. Bias_ tradeoff)\n",
    "   - Iterate on the model to get more optimized results.\n"
   ]
  }
 ],
 "metadata": {
  "kernelspec": {
   "display_name": "Python 3",
   "language": "python",
   "name": "python3"
  },
  "language_info": {
   "codemirror_mode": {
    "name": "ipython",
    "version": 3
   },
   "file_extension": ".py",
   "mimetype": "text/x-python",
   "name": "python",
   "nbconvert_exporter": "python",
   "pygments_lexer": "ipython3",
   "version": "3.7.0"
  }
 },
 "nbformat": 4,
 "nbformat_minor": 4
}
