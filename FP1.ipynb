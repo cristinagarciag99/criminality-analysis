{
 "cells": [
  {
   "cell_type": "markdown",
   "id": "acbfbfd0-9dde-43e2-beb1-e51b17ff2a2d",
   "metadata": {},
   "source": [
    "## ANÁLISIS DE CRIMINALIDAD EN EL MUNDO"
   ]
  },
  {
   "cell_type": "markdown",
   "id": "d84f9f3a-035a-4b57-b4b4-6a81959165e4",
   "metadata": {},
   "source": [
    "El objetivo de este proyecto es realizar un análisis de la criminalidad en los diferentes países a nivel mundial y encontrar relaciones con variables socioeconómicas que puedan influir en la existencia de un mayor o menor número de crímenes en los mismos. Finalmente, se elaborará un modelo con el fin de predecir la probabilidad de que ocurra un crimen en el país que se quiera conocer."
   ]
  },
  {
   "cell_type": "markdown",
   "id": "79d751be-adad-4788-a158-a177bf51b3ad",
   "metadata": {},
   "source": [
    "### Obtención de datos"
   ]
  },
  {
   "cell_type": "markdown",
   "id": "7ea64530-315b-4aad-8770-3b990b0dee06",
   "metadata": {},
   "source": [
    "##### 1. Importación de librerías"
   ]
  },
  {
   "cell_type": "code",
   "execution_count": 116,
   "id": "88a0abd3-0191-4bdd-b70b-dac49a8c6fc3",
   "metadata": {},
   "outputs": [],
   "source": [
    "import pandas as pd\n",
    "import numpy as np\n",
    "import datetime\n",
    "import warnings\n",
    "\n",
    "warnings.filterwarnings('ignore')\n",
    "warnings.filterwarnings(\"ignore\", message=\"numpy.ufunc size changed\")\n",
    "\n",
    "import matplotlib.pyplot as plt\n",
    "import seaborn as sns\n",
    "%matplotlib inline\n",
    "\n",
    "pd.set_option('display.max_columns', None)"
   ]
  },
  {
   "cell_type": "markdown",
   "id": "7f7d0d88-a523-4df7-b4b3-562ea1dfd305",
   "metadata": {},
   "source": [
    "##### 2. Lectura y exploración del data"
   ]
  },
  {
   "cell_type": "code",
   "execution_count": 117,
   "id": "85e4f668-2beb-49e9-ab64-4ddc12e1ee7f",
   "metadata": {},
   "outputs": [],
   "source": [
    "data = pd.read_excel('./Data/FINAL DATA.xlsx')"
   ]
  },
  {
   "cell_type": "code",
   "execution_count": 118,
   "id": "d5d2e15c-ad97-482a-a00d-155cdedc02c9",
   "metadata": {},
   "outputs": [
    {
     "data": {
      "text/html": [
       "<div>\n",
       "<style scoped>\n",
       "    .dataframe tbody tr th:only-of-type {\n",
       "        vertical-align: middle;\n",
       "    }\n",
       "\n",
       "    .dataframe tbody tr th {\n",
       "        vertical-align: top;\n",
       "    }\n",
       "\n",
       "    .dataframe thead th {\n",
       "        text-align: right;\n",
       "    }\n",
       "</style>\n",
       "<table border=\"1\" class=\"dataframe\">\n",
       "  <thead>\n",
       "    <tr style=\"text-align: right;\">\n",
       "      <th></th>\n",
       "      <th>CountryID</th>\n",
       "      <th>Country Name</th>\n",
       "      <th>Continent</th>\n",
       "      <th>Population (Millions)</th>\n",
       "      <th>GDP per Capita (PPP)</th>\n",
       "      <th>Tax Burden % of GDP</th>\n",
       "      <th>Gov't Expenditure % of GDP</th>\n",
       "      <th>Unemployment (%)</th>\n",
       "      <th>Inflation (%)</th>\n",
       "      <th>Public Debt (% of GDP)</th>\n",
       "      <th>Country</th>\n",
       "      <th>Literacy (%)</th>\n",
       "      <th>Birthrate</th>\n",
       "      <th>Deathrate</th>\n",
       "      <th>Business Freedom</th>\n",
       "      <th>Labor Freedom</th>\n",
       "      <th>Monetary Freedom</th>\n",
       "      <th>Trade Freedom</th>\n",
       "      <th>Investment Freedom</th>\n",
       "      <th>Financial Freedom</th>\n",
       "      <th>Happiness Rank</th>\n",
       "      <th>Happiness score</th>\n",
       "      <th>Crime Index</th>\n",
       "      <th>Cost of Living Index</th>\n",
       "      <th>Rent Index</th>\n",
       "      <th>Cost of Living Plus Rent Index</th>\n",
       "      <th>Groceries Index</th>\n",
       "      <th>Restaurant Price Index</th>\n",
       "      <th>Local Purchasing Power Index</th>\n",
       "    </tr>\n",
       "  </thead>\n",
       "  <tbody>\n",
       "    <tr>\n",
       "      <th>0</th>\n",
       "      <td>1</td>\n",
       "      <td>Afghanistan</td>\n",
       "      <td>Asia</td>\n",
       "      <td>38.928341</td>\n",
       "      <td>2390.024</td>\n",
       "      <td>7.47</td>\n",
       "      <td>NaN</td>\n",
       "      <td>11.73</td>\n",
       "      <td>5.607</td>\n",
       "      <td>7.785</td>\n",
       "      <td>Afghanistan</td>\n",
       "      <td>36.0</td>\n",
       "      <td>46.60</td>\n",
       "      <td>20.34</td>\n",
       "      <td>NaN</td>\n",
       "      <td>NaN</td>\n",
       "      <td>NaN</td>\n",
       "      <td>NaN</td>\n",
       "      <td>NaN</td>\n",
       "      <td>NaN</td>\n",
       "      <td>146.0</td>\n",
       "      <td>2404.0</td>\n",
       "      <td>36.00</td>\n",
       "      <td>20.37</td>\n",
       "      <td>2.72</td>\n",
       "      <td>12.09</td>\n",
       "      <td>14.92</td>\n",
       "      <td>12.41</td>\n",
       "      <td>23.04</td>\n",
       "    </tr>\n",
       "    <tr>\n",
       "      <th>1</th>\n",
       "      <td>2</td>\n",
       "      <td>Albania</td>\n",
       "      <td>Europe</td>\n",
       "      <td>2.837743</td>\n",
       "      <td>14218.106</td>\n",
       "      <td>18.30</td>\n",
       "      <td>30.514667</td>\n",
       "      <td>11.70</td>\n",
       "      <td>1.603</td>\n",
       "      <td>75.960</td>\n",
       "      <td>Albania</td>\n",
       "      <td>86.5</td>\n",
       "      <td>15.11</td>\n",
       "      <td>5.22</td>\n",
       "      <td>70.7</td>\n",
       "      <td>51.066122</td>\n",
       "      <td>82.0</td>\n",
       "      <td>82.6</td>\n",
       "      <td>70.0</td>\n",
       "      <td>70.0</td>\n",
       "      <td>90.0</td>\n",
       "      <td>5199.0</td>\n",
       "      <td>42.53</td>\n",
       "      <td>35.50</td>\n",
       "      <td>8.47</td>\n",
       "      <td>22.83</td>\n",
       "      <td>29.32</td>\n",
       "      <td>25.82</td>\n",
       "      <td>30.19</td>\n",
       "    </tr>\n",
       "    <tr>\n",
       "      <th>2</th>\n",
       "      <td>3</td>\n",
       "      <td>Algeria</td>\n",
       "      <td>Africa</td>\n",
       "      <td>43.851043</td>\n",
       "      <td>11112.187</td>\n",
       "      <td>37.20</td>\n",
       "      <td>37.827000</td>\n",
       "      <td>12.83</td>\n",
       "      <td>2.415</td>\n",
       "      <td>53.067</td>\n",
       "      <td>Algeria</td>\n",
       "      <td>70.0</td>\n",
       "      <td>17.14</td>\n",
       "      <td>4.61</td>\n",
       "      <td>50.0</td>\n",
       "      <td>51.470083</td>\n",
       "      <td>80.1</td>\n",
       "      <td>57.4</td>\n",
       "      <td>30.0</td>\n",
       "      <td>30.0</td>\n",
       "      <td>96.0</td>\n",
       "      <td>5122.0</td>\n",
       "      <td>52.03</td>\n",
       "      <td>26.87</td>\n",
       "      <td>4.59</td>\n",
       "      <td>16.43</td>\n",
       "      <td>28.82</td>\n",
       "      <td>14.48</td>\n",
       "      <td>24.63</td>\n",
       "    </tr>\n",
       "  </tbody>\n",
       "</table>\n",
       "</div>"
      ],
      "text/plain": [
       "   CountryID Country Name Continent  Population (Millions)  \\\n",
       "0          1  Afghanistan      Asia              38.928341   \n",
       "1          2      Albania    Europe               2.837743   \n",
       "2          3      Algeria    Africa              43.851043   \n",
       "\n",
       "   GDP per Capita (PPP)  Tax Burden % of GDP  Gov't Expenditure % of GDP   \\\n",
       "0              2390.024                 7.47                          NaN   \n",
       "1             14218.106                18.30                    30.514667   \n",
       "2             11112.187                37.20                    37.827000   \n",
       "\n",
       "   Unemployment (%)  Inflation (%)  Public Debt (% of GDP)       Country  \\\n",
       "0             11.73          5.607                   7.785  Afghanistan    \n",
       "1             11.70          1.603                  75.960      Albania    \n",
       "2             12.83          2.415                  53.067      Algeria    \n",
       "\n",
       "   Literacy (%)  Birthrate  Deathrate  Business Freedom  Labor Freedom  \\\n",
       "0          36.0      46.60      20.34               NaN            NaN   \n",
       "1          86.5      15.11       5.22              70.7      51.066122   \n",
       "2          70.0      17.14       4.61              50.0      51.470083   \n",
       "\n",
       "   Monetary Freedom  Trade Freedom  Investment Freedom   Financial Freedom  \\\n",
       "0               NaN            NaN                  NaN                NaN   \n",
       "1              82.0           82.6                 70.0               70.0   \n",
       "2              80.1           57.4                 30.0               30.0   \n",
       "\n",
       "   Happiness Rank  Happiness score  Crime Index  Cost of Living Index  \\\n",
       "0           146.0           2404.0        36.00                 20.37   \n",
       "1            90.0           5199.0        42.53                 35.50   \n",
       "2            96.0           5122.0        52.03                 26.87   \n",
       "\n",
       "   Rent Index  Cost of Living Plus Rent Index  Groceries Index  \\\n",
       "0        2.72                           12.09            14.92   \n",
       "1        8.47                           22.83            29.32   \n",
       "2        4.59                           16.43            28.82   \n",
       "\n",
       "   Restaurant Price Index  Local Purchasing Power Index  \n",
       "0                   12.41                         23.04  \n",
       "1                   25.82                         30.19  \n",
       "2                   14.48                         24.63  "
      ]
     },
     "execution_count": 118,
     "metadata": {},
     "output_type": "execute_result"
    }
   ],
   "source": [
    "data.head(3)"
   ]
  },
  {
   "cell_type": "code",
   "execution_count": 119,
   "id": "c80a92b5-2540-480b-934b-753b53b90875",
   "metadata": {},
   "outputs": [
    {
     "data": {
      "text/plain": [
       "(231, 29)"
      ]
     },
     "execution_count": 119,
     "metadata": {},
     "output_type": "execute_result"
    }
   ],
   "source": [
    "data.shape"
   ]
  },
  {
   "cell_type": "code",
   "execution_count": 120,
   "id": "fbd2a731-8d74-403d-975b-3fd24458c734",
   "metadata": {},
   "outputs": [
    {
     "data": {
      "text/plain": [
       "Index(['CountryID', 'Country Name', 'Continent', 'Population (Millions)',\n",
       "       'GDP per Capita (PPP)', 'Tax Burden % of GDP',\n",
       "       'Gov't Expenditure % of GDP ', 'Unemployment (%)', 'Inflation (%)',\n",
       "       'Public Debt (% of GDP)', 'Country', 'Literacy (%)', 'Birthrate',\n",
       "       'Deathrate', 'Business Freedom', 'Labor Freedom', 'Monetary Freedom',\n",
       "       'Trade Freedom', 'Investment Freedom ', 'Financial Freedom',\n",
       "       'Happiness Rank', 'Happiness score', 'Crime Index',\n",
       "       'Cost of Living Index', 'Rent Index', 'Cost of Living Plus Rent Index',\n",
       "       'Groceries Index', 'Restaurant Price Index',\n",
       "       'Local Purchasing Power Index'],\n",
       "      dtype='object')"
      ]
     },
     "execution_count": 120,
     "metadata": {},
     "output_type": "execute_result"
    }
   ],
   "source": [
    "data.columns"
   ]
  },
  {
   "cell_type": "code",
   "execution_count": 121,
   "id": "0c3114e3-352c-470d-90a9-c2b1e9ae2239",
   "metadata": {},
   "outputs": [
    {
     "name": "stdout",
     "output_type": "stream",
     "text": [
      "<class 'pandas.core.frame.DataFrame'>\n",
      "RangeIndex: 231 entries, 0 to 230\n",
      "Data columns (total 29 columns):\n",
      " #   Column                          Non-Null Count  Dtype  \n",
      "---  ------                          --------------  -----  \n",
      " 0   CountryID                       231 non-null    int64  \n",
      " 1   Country Name                    231 non-null    object \n",
      " 2   Continent                       231 non-null    object \n",
      " 3   Population (Millions)           183 non-null    float64\n",
      " 4   GDP per Capita (PPP)            180 non-null    float64\n",
      " 5   Tax Burden % of GDP             177 non-null    float64\n",
      " 6   Gov't Expenditure % of GDP      176 non-null    float64\n",
      " 7   Unemployment (%)                179 non-null    float64\n",
      " 8   Inflation (%)                   178 non-null    float64\n",
      " 9   Public Debt (% of GDP)          180 non-null    float64\n",
      " 10  Country                         226 non-null    object \n",
      " 11  Literacy (%)                    209 non-null    float64\n",
      " 12  Birthrate                       223 non-null    float64\n",
      " 13  Deathrate                       222 non-null    float64\n",
      " 14  Business Freedom                176 non-null    float64\n",
      " 15  Labor Freedom                   176 non-null    float64\n",
      " 16  Monetary Freedom                176 non-null    float64\n",
      " 17  Trade Freedom                   176 non-null    float64\n",
      " 18  Investment Freedom              176 non-null    float64\n",
      " 19  Financial Freedom               176 non-null    float64\n",
      " 20  Happiness Rank                  139 non-null    float64\n",
      " 21  Happiness score                 139 non-null    float64\n",
      " 22  Crime Index                     131 non-null    float64\n",
      " 23  Cost of Living Index            136 non-null    float64\n",
      " 24  Rent Index                      136 non-null    float64\n",
      " 25  Cost of Living Plus Rent Index  136 non-null    float64\n",
      " 26  Groceries Index                 136 non-null    float64\n",
      " 27  Restaurant Price Index          136 non-null    float64\n",
      " 28  Local Purchasing Power Index    136 non-null    float64\n",
      "dtypes: float64(25), int64(1), object(3)\n",
      "memory usage: 52.5+ KB\n"
     ]
    }
   ],
   "source": [
    "data.info()"
   ]
  },
  {
   "cell_type": "code",
   "execution_count": 122,
   "id": "c21a0c66-1217-4536-99ec-b347d4f5adc6",
   "metadata": {},
   "outputs": [
    {
     "data": {
      "text/html": [
       "<div>\n",
       "<style scoped>\n",
       "    .dataframe tbody tr th:only-of-type {\n",
       "        vertical-align: middle;\n",
       "    }\n",
       "\n",
       "    .dataframe tbody tr th {\n",
       "        vertical-align: top;\n",
       "    }\n",
       "\n",
       "    .dataframe thead th {\n",
       "        text-align: right;\n",
       "    }\n",
       "</style>\n",
       "<table border=\"1\" class=\"dataframe\">\n",
       "  <thead>\n",
       "    <tr style=\"text-align: right;\">\n",
       "      <th></th>\n",
       "      <th>CountryID</th>\n",
       "      <th>Population (Millions)</th>\n",
       "      <th>GDP per Capita (PPP)</th>\n",
       "      <th>Tax Burden % of GDP</th>\n",
       "      <th>Gov't Expenditure % of GDP</th>\n",
       "      <th>Unemployment (%)</th>\n",
       "      <th>Inflation (%)</th>\n",
       "      <th>Public Debt (% of GDP)</th>\n",
       "      <th>Literacy (%)</th>\n",
       "      <th>Birthrate</th>\n",
       "      <th>Deathrate</th>\n",
       "      <th>Business Freedom</th>\n",
       "      <th>Labor Freedom</th>\n",
       "      <th>Monetary Freedom</th>\n",
       "      <th>Trade Freedom</th>\n",
       "      <th>Investment Freedom</th>\n",
       "      <th>Financial Freedom</th>\n",
       "      <th>Happiness Rank</th>\n",
       "      <th>Happiness score</th>\n",
       "      <th>Crime Index</th>\n",
       "      <th>Cost of Living Index</th>\n",
       "      <th>Rent Index</th>\n",
       "      <th>Cost of Living Plus Rent Index</th>\n",
       "      <th>Groceries Index</th>\n",
       "      <th>Restaurant Price Index</th>\n",
       "      <th>Local Purchasing Power Index</th>\n",
       "    </tr>\n",
       "  </thead>\n",
       "  <tbody>\n",
       "    <tr>\n",
       "      <th>count</th>\n",
       "      <td>231.000000</td>\n",
       "      <td>183.000000</td>\n",
       "      <td>180.000000</td>\n",
       "      <td>177.000000</td>\n",
       "      <td>176.000000</td>\n",
       "      <td>179.000000</td>\n",
       "      <td>178.000000</td>\n",
       "      <td>180.000000</td>\n",
       "      <td>209.000000</td>\n",
       "      <td>223.000000</td>\n",
       "      <td>222.000000</td>\n",
       "      <td>176.000000</td>\n",
       "      <td>176.000000</td>\n",
       "      <td>176.000000</td>\n",
       "      <td>176.00000</td>\n",
       "      <td>176.000000</td>\n",
       "      <td>176.000000</td>\n",
       "      <td>139.000000</td>\n",
       "      <td>139.000000</td>\n",
       "      <td>131.000000</td>\n",
       "      <td>136.000000</td>\n",
       "      <td>136.000000</td>\n",
       "      <td>136.000000</td>\n",
       "      <td>136.000000</td>\n",
       "      <td>136.000000</td>\n",
       "      <td>136.000000</td>\n",
       "    </tr>\n",
       "    <tr>\n",
       "      <th>mean</th>\n",
       "      <td>116.000000</td>\n",
       "      <td>42.162801</td>\n",
       "      <td>20230.145967</td>\n",
       "      <td>20.718023</td>\n",
       "      <td>32.611614</td>\n",
       "      <td>8.015922</td>\n",
       "      <td>21.670461</td>\n",
       "      <td>69.247156</td>\n",
       "      <td>275.800478</td>\n",
       "      <td>21.370135</td>\n",
       "      <td>9.818468</td>\n",
       "      <td>60.317614</td>\n",
       "      <td>55.720282</td>\n",
       "      <td>74.391477</td>\n",
       "      <td>69.53750</td>\n",
       "      <td>57.130682</td>\n",
       "      <td>48.863636</td>\n",
       "      <td>72.079137</td>\n",
       "      <td>5583.899281</td>\n",
       "      <td>55.397023</td>\n",
       "      <td>50.031397</td>\n",
       "      <td>19.189926</td>\n",
       "      <td>35.574191</td>\n",
       "      <td>46.494926</td>\n",
       "      <td>43.462868</td>\n",
       "      <td>46.597206</td>\n",
       "    </tr>\n",
       "    <tr>\n",
       "      <th>std</th>\n",
       "      <td>66.828138</td>\n",
       "      <td>150.074620</td>\n",
       "      <td>21170.903997</td>\n",
       "      <td>10.380789</td>\n",
       "      <td>13.495025</td>\n",
       "      <td>5.224458</td>\n",
       "      <td>181.307011</td>\n",
       "      <td>44.568887</td>\n",
       "      <td>1685.426732</td>\n",
       "      <td>11.421251</td>\n",
       "      <td>6.357413</td>\n",
       "      <td>16.504783</td>\n",
       "      <td>10.195382</td>\n",
       "      <td>13.556295</td>\n",
       "      <td>12.99737</td>\n",
       "      <td>20.781310</td>\n",
       "      <td>18.450355</td>\n",
       "      <td>42.641761</td>\n",
       "      <td>1101.008124</td>\n",
       "      <td>39.331144</td>\n",
       "      <td>21.028761</td>\n",
       "      <td>15.334454</td>\n",
       "      <td>17.651350</td>\n",
       "      <td>21.093144</td>\n",
       "      <td>25.132304</td>\n",
       "      <td>26.927951</td>\n",
       "    </tr>\n",
       "    <tr>\n",
       "      <th>min</th>\n",
       "      <td>1.000000</td>\n",
       "      <td>0.038137</td>\n",
       "      <td>759.861000</td>\n",
       "      <td>1.000000</td>\n",
       "      <td>10.074667</td>\n",
       "      <td>0.310000</td>\n",
       "      <td>-2.719000</td>\n",
       "      <td>2.854000</td>\n",
       "      <td>17.600000</td>\n",
       "      <td>2.000000</td>\n",
       "      <td>2.290000</td>\n",
       "      <td>5.000000</td>\n",
       "      <td>5.000000</td>\n",
       "      <td>0.000000</td>\n",
       "      <td>0.00000</td>\n",
       "      <td>0.000000</td>\n",
       "      <td>0.000000</td>\n",
       "      <td>1.000000</td>\n",
       "      <td>2404.000000</td>\n",
       "      <td>2.000000</td>\n",
       "      <td>19.920000</td>\n",
       "      <td>2.720000</td>\n",
       "      <td>12.090000</td>\n",
       "      <td>14.920000</td>\n",
       "      <td>12.410000</td>\n",
       "      <td>1.450000</td>\n",
       "    </tr>\n",
       "    <tr>\n",
       "      <th>25%</th>\n",
       "      <td>58.500000</td>\n",
       "      <td>2.558910</td>\n",
       "      <td>5008.405250</td>\n",
       "      <td>13.300000</td>\n",
       "      <td>22.932167</td>\n",
       "      <td>4.410000</td>\n",
       "      <td>0.546000</td>\n",
       "      <td>42.635000</td>\n",
       "      <td>74.800000</td>\n",
       "      <td>12.045000</td>\n",
       "      <td>6.007500</td>\n",
       "      <td>49.400000</td>\n",
       "      <td>51.198613</td>\n",
       "      <td>71.550000</td>\n",
       "      <td>62.50000</td>\n",
       "      <td>45.000000</td>\n",
       "      <td>37.500000</td>\n",
       "      <td>35.500000</td>\n",
       "      <td>4908.000000</td>\n",
       "      <td>29.455000</td>\n",
       "      <td>34.662500</td>\n",
       "      <td>9.402500</td>\n",
       "      <td>23.277500</td>\n",
       "      <td>31.105000</td>\n",
       "      <td>25.225000</td>\n",
       "      <td>27.150000</td>\n",
       "    </tr>\n",
       "    <tr>\n",
       "      <th>50%</th>\n",
       "      <td>116.000000</td>\n",
       "      <td>9.890400</td>\n",
       "      <td>12697.984000</td>\n",
       "      <td>18.700000</td>\n",
       "      <td>31.624667</td>\n",
       "      <td>6.610000</td>\n",
       "      <td>2.459500</td>\n",
       "      <td>60.641000</td>\n",
       "      <td>92.600000</td>\n",
       "      <td>18.320000</td>\n",
       "      <td>8.175000</td>\n",
       "      <td>61.150000</td>\n",
       "      <td>56.434460</td>\n",
       "      <td>77.950000</td>\n",
       "      <td>71.80000</td>\n",
       "      <td>60.000000</td>\n",
       "      <td>50.000000</td>\n",
       "      <td>70.000000</td>\n",
       "      <td>5711.000000</td>\n",
       "      <td>43.030000</td>\n",
       "      <td>44.225000</td>\n",
       "      <td>13.720000</td>\n",
       "      <td>30.440000</td>\n",
       "      <td>39.810000</td>\n",
       "      <td>34.430000</td>\n",
       "      <td>36.630000</td>\n",
       "    </tr>\n",
       "    <tr>\n",
       "      <th>75%</th>\n",
       "      <td>173.500000</td>\n",
       "      <td>31.164190</td>\n",
       "      <td>30196.984500</td>\n",
       "      <td>28.530000</td>\n",
       "      <td>39.400083</td>\n",
       "      <td>10.250000</td>\n",
       "      <td>4.930500</td>\n",
       "      <td>84.612000</td>\n",
       "      <td>98.000000</td>\n",
       "      <td>29.350000</td>\n",
       "      <td>11.170000</td>\n",
       "      <td>72.400000</td>\n",
       "      <td>61.705666</td>\n",
       "      <td>81.650000</td>\n",
       "      <td>79.20000</td>\n",
       "      <td>70.000000</td>\n",
       "      <td>60.000000</td>\n",
       "      <td>108.500000</td>\n",
       "      <td>6366.000000</td>\n",
       "      <td>64.000000</td>\n",
       "      <td>62.465000</td>\n",
       "      <td>24.940000</td>\n",
       "      <td>44.822500</td>\n",
       "      <td>56.585000</td>\n",
       "      <td>55.807500</td>\n",
       "      <td>65.922500</td>\n",
       "    </tr>\n",
       "    <tr>\n",
       "      <th>max</th>\n",
       "      <td>231.000000</td>\n",
       "      <td>1402.112000</td>\n",
       "      <td>118001.580000</td>\n",
       "      <td>46.340000</td>\n",
       "      <td>119.134333</td>\n",
       "      <td>28.740000</td>\n",
       "      <td>2355.147000</td>\n",
       "      <td>304.125000</td>\n",
       "      <td>17800.000000</td>\n",
       "      <td>50.730000</td>\n",
       "      <td>43.690000</td>\n",
       "      <td>91.400000</td>\n",
       "      <td>81.506187</td>\n",
       "      <td>87.100000</td>\n",
       "      <td>95.00000</td>\n",
       "      <td>95.000000</td>\n",
       "      <td>90.000000</td>\n",
       "      <td>146.000000</td>\n",
       "      <td>7821.000000</td>\n",
       "      <td>177.000000</td>\n",
       "      <td>146.040000</td>\n",
       "      <td>98.580000</td>\n",
       "      <td>123.800000</td>\n",
       "      <td>148.660000</td>\n",
       "      <td>159.170000</td>\n",
       "      <td>118.440000</td>\n",
       "    </tr>\n",
       "  </tbody>\n",
       "</table>\n",
       "</div>"
      ],
      "text/plain": [
       "        CountryID  Population (Millions)  GDP per Capita (PPP)  \\\n",
       "count  231.000000             183.000000            180.000000   \n",
       "mean   116.000000              42.162801          20230.145967   \n",
       "std     66.828138             150.074620          21170.903997   \n",
       "min      1.000000               0.038137            759.861000   \n",
       "25%     58.500000               2.558910           5008.405250   \n",
       "50%    116.000000               9.890400          12697.984000   \n",
       "75%    173.500000              31.164190          30196.984500   \n",
       "max    231.000000            1402.112000         118001.580000   \n",
       "\n",
       "       Tax Burden % of GDP  Gov't Expenditure % of GDP   Unemployment (%)  \\\n",
       "count           177.000000                   176.000000        179.000000   \n",
       "mean             20.718023                    32.611614          8.015922   \n",
       "std              10.380789                    13.495025          5.224458   \n",
       "min               1.000000                    10.074667          0.310000   \n",
       "25%              13.300000                    22.932167          4.410000   \n",
       "50%              18.700000                    31.624667          6.610000   \n",
       "75%              28.530000                    39.400083         10.250000   \n",
       "max              46.340000                   119.134333         28.740000   \n",
       "\n",
       "       Inflation (%)  Public Debt (% of GDP)  Literacy (%)   Birthrate  \\\n",
       "count     178.000000              180.000000    209.000000  223.000000   \n",
       "mean       21.670461               69.247156    275.800478   21.370135   \n",
       "std       181.307011               44.568887   1685.426732   11.421251   \n",
       "min        -2.719000                2.854000     17.600000    2.000000   \n",
       "25%         0.546000               42.635000     74.800000   12.045000   \n",
       "50%         2.459500               60.641000     92.600000   18.320000   \n",
       "75%         4.930500               84.612000     98.000000   29.350000   \n",
       "max      2355.147000              304.125000  17800.000000   50.730000   \n",
       "\n",
       "        Deathrate  Business Freedom  Labor Freedom  Monetary Freedom  \\\n",
       "count  222.000000        176.000000     176.000000        176.000000   \n",
       "mean     9.818468         60.317614      55.720282         74.391477   \n",
       "std      6.357413         16.504783      10.195382         13.556295   \n",
       "min      2.290000          5.000000       5.000000          0.000000   \n",
       "25%      6.007500         49.400000      51.198613         71.550000   \n",
       "50%      8.175000         61.150000      56.434460         77.950000   \n",
       "75%     11.170000         72.400000      61.705666         81.650000   \n",
       "max     43.690000         91.400000      81.506187         87.100000   \n",
       "\n",
       "       Trade Freedom  Investment Freedom   Financial Freedom  Happiness Rank  \\\n",
       "count      176.00000           176.000000         176.000000      139.000000   \n",
       "mean        69.53750            57.130682          48.863636       72.079137   \n",
       "std         12.99737            20.781310          18.450355       42.641761   \n",
       "min          0.00000             0.000000           0.000000        1.000000   \n",
       "25%         62.50000            45.000000          37.500000       35.500000   \n",
       "50%         71.80000            60.000000          50.000000       70.000000   \n",
       "75%         79.20000            70.000000          60.000000      108.500000   \n",
       "max         95.00000            95.000000          90.000000      146.000000   \n",
       "\n",
       "       Happiness score  Crime Index  Cost of Living Index  Rent Index  \\\n",
       "count       139.000000   131.000000            136.000000  136.000000   \n",
       "mean       5583.899281    55.397023             50.031397   19.189926   \n",
       "std        1101.008124    39.331144             21.028761   15.334454   \n",
       "min        2404.000000     2.000000             19.920000    2.720000   \n",
       "25%        4908.000000    29.455000             34.662500    9.402500   \n",
       "50%        5711.000000    43.030000             44.225000   13.720000   \n",
       "75%        6366.000000    64.000000             62.465000   24.940000   \n",
       "max        7821.000000   177.000000            146.040000   98.580000   \n",
       "\n",
       "       Cost of Living Plus Rent Index  Groceries Index  \\\n",
       "count                      136.000000       136.000000   \n",
       "mean                        35.574191        46.494926   \n",
       "std                         17.651350        21.093144   \n",
       "min                         12.090000        14.920000   \n",
       "25%                         23.277500        31.105000   \n",
       "50%                         30.440000        39.810000   \n",
       "75%                         44.822500        56.585000   \n",
       "max                        123.800000       148.660000   \n",
       "\n",
       "       Restaurant Price Index  Local Purchasing Power Index  \n",
       "count              136.000000                    136.000000  \n",
       "mean                43.462868                     46.597206  \n",
       "std                 25.132304                     26.927951  \n",
       "min                 12.410000                      1.450000  \n",
       "25%                 25.225000                     27.150000  \n",
       "50%                 34.430000                     36.630000  \n",
       "75%                 55.807500                     65.922500  \n",
       "max                159.170000                    118.440000  "
      ]
     },
     "execution_count": 122,
     "metadata": {},
     "output_type": "execute_result"
    }
   ],
   "source": [
    "data.describe()"
   ]
  },
  {
   "cell_type": "markdown",
   "id": "c0c1694d-3843-4680-9e3e-08b1cc130524",
   "metadata": {},
   "source": [
    "Explicación de cada variable:\n",
    "- **CountryID**: número identificativo de cada país.\n",
    "- **Country Name**: nombre del país.\n",
    "- **Continent**: continente al que pertenece el país en cuestión.\n",
    "- **Population (Millions)**: población de cada país expresada en millones de habitantes.\n",
    "- **GDP per capita (PPP)**: PIB per capita de cada país.\n",
    "- **Tax Burden % GDP**: carga fiscal (impuestos soportados por la población de cada país) expresada como porcentaje del PIB.\n",
    "- **Gov't Expenditure % of GDP**: gasto público de cada país expersado como porcentaje de PIB.\n",
    "- **Unemployment (%)**: porcentaje de desempleo en cada país.\n",
    "- **Inflation (%)**: inflación en cada país (expresada como porcentaje).\n",
    "- **Public Debt (% of GDP)**: Deuda pública de cada país expresada como porcentaje de PIB.\n",
    "- **Country**: nombre del país.\n",
    "- **Literacy (%)**: porcentaje de alfabetización de cada país (porcentaje de la población de cada país que sabe leer y escribir, relacionado con la recepción de una educación básica).\n",
    "- **Birthrate**: tasa de natalidad de cada país.\n",
    "- **Deathrate**: tasa de mortalidad de cada país.\n",
    "- **Business Freedom**: índice de libertad empresarial (capacidad de crear, gestionar y cerrar una empresa), lo cual representa la carga global de la regulación, así como la eficacia del gobierno en el proceso regulador.\n",
    "- **Labor Freedom**: índice de libertad de trabajadores y empleadores de cada país para ejercer y concluir/anular la actividad profesional de su elección. (0-100).\n",
    "- **Monetary Freedom**: índice de libertad económica de cada país (precios ajustados de manera natural en el mercado por oferta y demanda sin intervención del Estado; concepto ideológico). (0-100).\n",
    "- **Trade Freedom**: índice de libertad de mercado (precios fijados en función de la interacción entre los oferentes y los demandantes, sin intervención del Estado o cualquier otro agente externo). (0-100).\n",
    "- **Investment Freedom**: libertad de inversión de cada país (capacidad de particulares y empresas para dedicar sus recursos a determinadas actividades sin restricciones.).(0-100).\n",
    "- **Financial Freedom**: libertad financiera de cada país (suficiente disposición de dinero en forma de efectivo e inversiones para hacer lo que se quiera). (0-100). \n",
    "- **Happiness Rank**: posición (ranking) de cada país según la puntuación del índice de felicidad.\n",
    "- **Happiness score**: puntucación obtenida por cada país en el índice de felicidad.\n",
    "- **Crime Index**: índice de criminalidad de cada país.\n",
    "- **Cost of Living Index**: índice del coste de vida de cada país. \n",
    "- **Rent Index**: índice del coste de alquiler de cada país.\n",
    "- **Cost of Living plus Rent Index**: índice del coste de vida con el coste de alquiler de cada país.\n",
    "- **Groceries Index**: estimación de los precios de los comestibles de cada país en comparación con la ciudad de Nueva York.\n",
    "- **Restaurant Price Index**: estimación de los precios de comidas y bebidas en restaurantes de cada país en comparación con la ciudad de Nueva York.\n",
    "- **Local Purchasing Power Index**: poder adquisitivo relativo en la compra de bienes y servicios en un país determinado por el salario medio de ese país."
   ]
  },
  {
   "cell_type": "markdown",
   "id": "672f65f6-5fb8-47ff-a404-c5fc218aa820",
   "metadata": {
    "tags": []
   },
   "source": [
    "### Limpieza de datos"
   ]
  },
  {
   "cell_type": "markdown",
   "id": "1e074c80-8300-469a-bc60-a061041a2340",
   "metadata": {},
   "source": [
    "##### 3. Cambio de nombres de las columnas"
   ]
  },
  {
   "cell_type": "markdown",
   "id": "7d973317-f415-4b7f-a099-c26a2c7b79d2",
   "metadata": {},
   "source": [
    "La columna llamada *\"Gov't Expenditure % of GDP\"* tiene un nombre largo y la \" ' \" puede dar errores en pandas. Por lo tanto, se cambiará el nombre a \"Government Expenditure (% GDP)\"."
   ]
  },
  {
   "cell_type": "code",
   "execution_count": 123,
   "id": "211747b8-5a37-4621-a250-a2b18eac3360",
   "metadata": {},
   "outputs": [],
   "source": [
    "data = data.rename(columns={\"Gov't Expenditure % of GDP \":'Government Expenditure (% GDP)'}, inplace = False)"
   ]
  },
  {
   "cell_type": "code",
   "execution_count": 124,
   "id": "1de14d83-ce25-468e-892f-c83199f439b3",
   "metadata": {},
   "outputs": [
    {
     "data": {
      "text/html": [
       "<div>\n",
       "<style scoped>\n",
       "    .dataframe tbody tr th:only-of-type {\n",
       "        vertical-align: middle;\n",
       "    }\n",
       "\n",
       "    .dataframe tbody tr th {\n",
       "        vertical-align: top;\n",
       "    }\n",
       "\n",
       "    .dataframe thead th {\n",
       "        text-align: right;\n",
       "    }\n",
       "</style>\n",
       "<table border=\"1\" class=\"dataframe\">\n",
       "  <thead>\n",
       "    <tr style=\"text-align: right;\">\n",
       "      <th></th>\n",
       "      <th>CountryID</th>\n",
       "      <th>Country Name</th>\n",
       "      <th>Continent</th>\n",
       "      <th>Population (Millions)</th>\n",
       "      <th>GDP per Capita (PPP)</th>\n",
       "      <th>Tax Burden % of GDP</th>\n",
       "      <th>Government Expenditure (% GDP)</th>\n",
       "      <th>Unemployment (%)</th>\n",
       "      <th>Inflation (%)</th>\n",
       "      <th>Public Debt (% of GDP)</th>\n",
       "      <th>Country</th>\n",
       "      <th>Literacy (%)</th>\n",
       "      <th>Birthrate</th>\n",
       "      <th>Deathrate</th>\n",
       "      <th>Business Freedom</th>\n",
       "      <th>Labor Freedom</th>\n",
       "      <th>Monetary Freedom</th>\n",
       "      <th>Trade Freedom</th>\n",
       "      <th>Investment Freedom</th>\n",
       "      <th>Financial Freedom</th>\n",
       "      <th>Happiness Rank</th>\n",
       "      <th>Happiness score</th>\n",
       "      <th>Crime Index</th>\n",
       "      <th>Cost of Living Index</th>\n",
       "      <th>Rent Index</th>\n",
       "      <th>Cost of Living Plus Rent Index</th>\n",
       "      <th>Groceries Index</th>\n",
       "      <th>Restaurant Price Index</th>\n",
       "      <th>Local Purchasing Power Index</th>\n",
       "    </tr>\n",
       "  </thead>\n",
       "  <tbody>\n",
       "  </tbody>\n",
       "</table>\n",
       "</div>"
      ],
      "text/plain": [
       "Empty DataFrame\n",
       "Columns: [CountryID, Country Name, Continent, Population (Millions), GDP per Capita (PPP), Tax Burden % of GDP, Government Expenditure (% GDP), Unemployment (%), Inflation (%), Public Debt (% of GDP), Country, Literacy (%), Birthrate, Deathrate, Business Freedom, Labor Freedom, Monetary Freedom, Trade Freedom, Investment Freedom , Financial Freedom, Happiness Rank, Happiness score, Crime Index, Cost of Living Index, Rent Index, Cost of Living Plus Rent Index, Groceries Index, Restaurant Price Index, Local Purchasing Power Index]\n",
       "Index: []"
      ]
     },
     "execution_count": 124,
     "metadata": {},
     "output_type": "execute_result"
    }
   ],
   "source": [
    "data.head(0)"
   ]
  },
  {
   "cell_type": "markdown",
   "id": "3d0380a0-f2b3-4ff2-b39e-3289688f513e",
   "metadata": {},
   "source": [
    "##### 4. Eliminación de columnas prescindibles"
   ]
  },
  {
   "cell_type": "markdown",
   "id": "82f4d6f0-5d5d-4309-aad7-cad72a860535",
   "metadata": {},
   "source": [
    "Hay ciertas columnas que desde un principio se sabe que no serán esenciales o se encuentran duplicadas, por lo que se pueden eliminar:\n",
    "- *CountryID*: con el nombre y continente al que pertenece cada país se tiene suficiente información, el ID no añade ni indica nada relevante.\n",
    "- *Country*: esta columna está repetida, por lo que se eliminará y se mantendrá la primera (*\"Country Name*)."
   ]
  },
  {
   "cell_type": "code",
   "execution_count": 125,
   "id": "0114db14-aa07-481c-95bb-4a1cfbb6210f",
   "metadata": {},
   "outputs": [],
   "source": [
    "data = data.drop(['CountryID', 'Country'], axis =1)"
   ]
  },
  {
   "cell_type": "code",
   "execution_count": 126,
   "id": "c1879fe1-f57b-477d-8cd7-315759a267be",
   "metadata": {},
   "outputs": [
    {
     "data": {
      "text/html": [
       "<div>\n",
       "<style scoped>\n",
       "    .dataframe tbody tr th:only-of-type {\n",
       "        vertical-align: middle;\n",
       "    }\n",
       "\n",
       "    .dataframe tbody tr th {\n",
       "        vertical-align: top;\n",
       "    }\n",
       "\n",
       "    .dataframe thead th {\n",
       "        text-align: right;\n",
       "    }\n",
       "</style>\n",
       "<table border=\"1\" class=\"dataframe\">\n",
       "  <thead>\n",
       "    <tr style=\"text-align: right;\">\n",
       "      <th></th>\n",
       "      <th>Country Name</th>\n",
       "      <th>Continent</th>\n",
       "      <th>Population (Millions)</th>\n",
       "      <th>GDP per Capita (PPP)</th>\n",
       "      <th>Tax Burden % of GDP</th>\n",
       "      <th>Government Expenditure (% GDP)</th>\n",
       "      <th>Unemployment (%)</th>\n",
       "      <th>Inflation (%)</th>\n",
       "      <th>Public Debt (% of GDP)</th>\n",
       "      <th>Literacy (%)</th>\n",
       "      <th>Birthrate</th>\n",
       "      <th>Deathrate</th>\n",
       "      <th>Business Freedom</th>\n",
       "      <th>Labor Freedom</th>\n",
       "      <th>Monetary Freedom</th>\n",
       "      <th>Trade Freedom</th>\n",
       "      <th>Investment Freedom</th>\n",
       "      <th>Financial Freedom</th>\n",
       "      <th>Happiness Rank</th>\n",
       "      <th>Happiness score</th>\n",
       "      <th>Crime Index</th>\n",
       "      <th>Cost of Living Index</th>\n",
       "      <th>Rent Index</th>\n",
       "      <th>Cost of Living Plus Rent Index</th>\n",
       "      <th>Groceries Index</th>\n",
       "      <th>Restaurant Price Index</th>\n",
       "      <th>Local Purchasing Power Index</th>\n",
       "    </tr>\n",
       "  </thead>\n",
       "  <tbody>\n",
       "    <tr>\n",
       "      <th>0</th>\n",
       "      <td>Afghanistan</td>\n",
       "      <td>Asia</td>\n",
       "      <td>38.928341</td>\n",
       "      <td>2390.024</td>\n",
       "      <td>7.47</td>\n",
       "      <td>NaN</td>\n",
       "      <td>11.73</td>\n",
       "      <td>5.607</td>\n",
       "      <td>7.785</td>\n",
       "      <td>36.0</td>\n",
       "      <td>46.60</td>\n",
       "      <td>20.34</td>\n",
       "      <td>NaN</td>\n",
       "      <td>NaN</td>\n",
       "      <td>NaN</td>\n",
       "      <td>NaN</td>\n",
       "      <td>NaN</td>\n",
       "      <td>NaN</td>\n",
       "      <td>146.0</td>\n",
       "      <td>2404.0</td>\n",
       "      <td>36.00</td>\n",
       "      <td>20.37</td>\n",
       "      <td>2.72</td>\n",
       "      <td>12.09</td>\n",
       "      <td>14.92</td>\n",
       "      <td>12.41</td>\n",
       "      <td>23.04</td>\n",
       "    </tr>\n",
       "    <tr>\n",
       "      <th>1</th>\n",
       "      <td>Albania</td>\n",
       "      <td>Europe</td>\n",
       "      <td>2.837743</td>\n",
       "      <td>14218.106</td>\n",
       "      <td>18.30</td>\n",
       "      <td>30.514667</td>\n",
       "      <td>11.70</td>\n",
       "      <td>1.603</td>\n",
       "      <td>75.960</td>\n",
       "      <td>86.5</td>\n",
       "      <td>15.11</td>\n",
       "      <td>5.22</td>\n",
       "      <td>70.7</td>\n",
       "      <td>51.066122</td>\n",
       "      <td>82.0</td>\n",
       "      <td>82.6</td>\n",
       "      <td>70.0</td>\n",
       "      <td>70.0</td>\n",
       "      <td>90.0</td>\n",
       "      <td>5199.0</td>\n",
       "      <td>42.53</td>\n",
       "      <td>35.50</td>\n",
       "      <td>8.47</td>\n",
       "      <td>22.83</td>\n",
       "      <td>29.32</td>\n",
       "      <td>25.82</td>\n",
       "      <td>30.19</td>\n",
       "    </tr>\n",
       "    <tr>\n",
       "      <th>2</th>\n",
       "      <td>Algeria</td>\n",
       "      <td>Africa</td>\n",
       "      <td>43.851043</td>\n",
       "      <td>11112.187</td>\n",
       "      <td>37.20</td>\n",
       "      <td>37.827000</td>\n",
       "      <td>12.83</td>\n",
       "      <td>2.415</td>\n",
       "      <td>53.067</td>\n",
       "      <td>70.0</td>\n",
       "      <td>17.14</td>\n",
       "      <td>4.61</td>\n",
       "      <td>50.0</td>\n",
       "      <td>51.470083</td>\n",
       "      <td>80.1</td>\n",
       "      <td>57.4</td>\n",
       "      <td>30.0</td>\n",
       "      <td>30.0</td>\n",
       "      <td>96.0</td>\n",
       "      <td>5122.0</td>\n",
       "      <td>52.03</td>\n",
       "      <td>26.87</td>\n",
       "      <td>4.59</td>\n",
       "      <td>16.43</td>\n",
       "      <td>28.82</td>\n",
       "      <td>14.48</td>\n",
       "      <td>24.63</td>\n",
       "    </tr>\n",
       "  </tbody>\n",
       "</table>\n",
       "</div>"
      ],
      "text/plain": [
       "  Country Name Continent  Population (Millions)  GDP per Capita (PPP)  \\\n",
       "0  Afghanistan      Asia              38.928341              2390.024   \n",
       "1      Albania    Europe               2.837743             14218.106   \n",
       "2      Algeria    Africa              43.851043             11112.187   \n",
       "\n",
       "   Tax Burden % of GDP  Government Expenditure (% GDP)  Unemployment (%)  \\\n",
       "0                 7.47                             NaN             11.73   \n",
       "1                18.30                       30.514667             11.70   \n",
       "2                37.20                       37.827000             12.83   \n",
       "\n",
       "   Inflation (%)  Public Debt (% of GDP)  Literacy (%)  Birthrate  Deathrate  \\\n",
       "0          5.607                   7.785          36.0      46.60      20.34   \n",
       "1          1.603                  75.960          86.5      15.11       5.22   \n",
       "2          2.415                  53.067          70.0      17.14       4.61   \n",
       "\n",
       "   Business Freedom  Labor Freedom  Monetary Freedom  Trade Freedom  \\\n",
       "0               NaN            NaN               NaN            NaN   \n",
       "1              70.7      51.066122              82.0           82.6   \n",
       "2              50.0      51.470083              80.1           57.4   \n",
       "\n",
       "   Investment Freedom   Financial Freedom  Happiness Rank  Happiness score  \\\n",
       "0                  NaN                NaN           146.0           2404.0   \n",
       "1                 70.0               70.0            90.0           5199.0   \n",
       "2                 30.0               30.0            96.0           5122.0   \n",
       "\n",
       "   Crime Index  Cost of Living Index  Rent Index  \\\n",
       "0        36.00                 20.37        2.72   \n",
       "1        42.53                 35.50        8.47   \n",
       "2        52.03                 26.87        4.59   \n",
       "\n",
       "   Cost of Living Plus Rent Index  Groceries Index  Restaurant Price Index  \\\n",
       "0                           12.09            14.92                   12.41   \n",
       "1                           22.83            29.32                   25.82   \n",
       "2                           16.43            28.82                   14.48   \n",
       "\n",
       "   Local Purchasing Power Index  \n",
       "0                         23.04  \n",
       "1                         30.19  \n",
       "2                         24.63  "
      ]
     },
     "execution_count": 126,
     "metadata": {},
     "output_type": "execute_result"
    }
   ],
   "source": [
    "data.head(3)"
   ]
  },
  {
   "cell_type": "markdown",
   "id": "ff1085e2-adbb-4ed0-aa6c-3d010b41aa3e",
   "metadata": {},
   "source": [
    "##### 5. Comprobación de valores únicos"
   ]
  },
  {
   "cell_type": "code",
   "execution_count": 127,
   "id": "9439eac8-f067-4d6b-9446-c3b0c5585f2b",
   "metadata": {},
   "outputs": [
    {
     "name": "stdout",
     "output_type": "stream",
     "text": [
      "Country Name 231\n",
      "Continent 5\n",
      "Population (Millions) 184\n",
      "GDP per Capita (PPP) 181\n",
      "Tax Burden % of GDP 158\n",
      "Government Expenditure (% GDP) 177\n",
      "Unemployment (%) 162\n",
      "Inflation (%) 178\n",
      "Public Debt (% of GDP) 180\n",
      "Literacy (%) 143\n",
      "Birthrate 215\n",
      "Deathrate 204\n",
      "Business Freedom 151\n",
      "Labor Freedom 177\n",
      "Monetary Freedom 128\n",
      "Trade Freedom 107\n",
      "Investment Freedom  21\n",
      "Financial Freedom 11\n",
      "Happiness Rank 140\n",
      "Happiness score 136\n",
      "Crime Index 132\n",
      "Cost of Living Index 134\n",
      "Rent Index 131\n",
      "Cost of Living Plus Rent Index 135\n",
      "Groceries Index 137\n",
      "Restaurant Price Index 136\n",
      "Local Purchasing Power Index 136\n"
     ]
    }
   ],
   "source": [
    "for c in data.columns.tolist():\n",
    "    print(c, len(data[c].unique()))"
   ]
  },
  {
   "cell_type": "markdown",
   "id": "8e33a6f7-d0f8-45d1-9a2b-aa11770a5121",
   "metadata": {},
   "source": [
    "##### 6. Comprobación y limpieza de NaNs"
   ]
  },
  {
   "cell_type": "markdown",
   "id": "894f1363-0423-4119-aee8-9c469b291960",
   "metadata": {},
   "source": [
    "Ya a simple vista se puede observar que hay varios NaNs en todo el dataframe. Por lo tanto, se mostrará de manera resumida el número total de NaNs que hay en cada columna."
   ]
  },
  {
   "cell_type": "code",
   "execution_count": 128,
   "id": "c2996c4f-e419-4ff6-9274-590cc1fd90b5",
   "metadata": {},
   "outputs": [
    {
     "data": {
      "text/plain": [
       "Country Name                        0\n",
       "Continent                           0\n",
       "Population (Millions)              48\n",
       "GDP per Capita (PPP)               51\n",
       "Tax Burden % of GDP                54\n",
       "Government Expenditure (% GDP)     55\n",
       "Unemployment (%)                   52\n",
       "Inflation (%)                      53\n",
       "Public Debt (% of GDP)             51\n",
       "Literacy (%)                       22\n",
       "Birthrate                           8\n",
       "Deathrate                           9\n",
       "Business Freedom                   55\n",
       "Labor Freedom                      55\n",
       "Monetary Freedom                   55\n",
       "Trade Freedom                      55\n",
       "Investment Freedom                 55\n",
       "Financial Freedom                  55\n",
       "Happiness Rank                     92\n",
       "Happiness score                    92\n",
       "Crime Index                       100\n",
       "Cost of Living Index               95\n",
       "Rent Index                         95\n",
       "Cost of Living Plus Rent Index     95\n",
       "Groceries Index                    95\n",
       "Restaurant Price Index             95\n",
       "Local Purchasing Power Index       95\n",
       "dtype: int64"
      ]
     },
     "execution_count": 128,
     "metadata": {},
     "output_type": "execute_result"
    }
   ],
   "source": [
    "data.isna().sum()"
   ]
  },
  {
   "cell_type": "markdown",
   "id": "4a071501-4cc7-419a-a708-28d74a34d646",
   "metadata": {},
   "source": [
    "Gracias a este pequeño resumen se puede observar que la columna \"Crime Index\" es la que presenta un mayor número de NaNs. Además, la mayoría del resto de variables también presentan un número significativo de NaNs, por lo que se procederá a crear una función genérica que permita sustituir todos aquellos NaNs por el valor de la media de la variable correspondiente."
   ]
  },
  {
   "cell_type": "code",
   "execution_count": 129,
   "id": "b08eadc8-768c-4244-b3be-26f7e825f6b3",
   "metadata": {},
   "outputs": [],
   "source": [
    "data['Crime Index'] = data['Crime Index'].fillna(data['Crime Index'].median())"
   ]
  },
  {
   "cell_type": "code",
   "execution_count": 130,
   "id": "2c7dc6f7-b13a-4c0a-afd5-dbea235fdff8",
   "metadata": {},
   "outputs": [],
   "source": [
    "def replace_nans(data, replace_type='mean'):\n",
    "    for col in data.select_dtypes(np.number).columns:\n",
    "        if replace_type=='mean':\n",
    "            data[col] = data[col].fillna(data[col].mean())\n",
    "        else:\n",
    "            data[col] = data[col].fillna(data[col].median())\n",
    "    return data        "
   ]
  },
  {
   "cell_type": "code",
   "execution_count": 131,
   "id": "8c22c3a8-5ff5-42b8-8a0b-c85fb3743824",
   "metadata": {},
   "outputs": [],
   "source": [
    "data = replace_nans(data)"
   ]
  },
  {
   "cell_type": "code",
   "execution_count": 132,
   "id": "b4e86c60-6d71-497c-9ece-24222937adcb",
   "metadata": {},
   "outputs": [
    {
     "data": {
      "text/plain": [
       "Country Name                      0\n",
       "Continent                         0\n",
       "Population (Millions)             0\n",
       "GDP per Capita (PPP)              0\n",
       "Tax Burden % of GDP               0\n",
       "Government Expenditure (% GDP)    0\n",
       "Unemployment (%)                  0\n",
       "Inflation (%)                     0\n",
       "Public Debt (% of GDP)            0\n",
       "Literacy (%)                      0\n",
       "Birthrate                         0\n",
       "Deathrate                         0\n",
       "Business Freedom                  0\n",
       "Labor Freedom                     0\n",
       "Monetary Freedom                  0\n",
       "Trade Freedom                     0\n",
       "Investment Freedom                0\n",
       "Financial Freedom                 0\n",
       "Happiness Rank                    0\n",
       "Happiness score                   0\n",
       "Crime Index                       0\n",
       "Cost of Living Index              0\n",
       "Rent Index                        0\n",
       "Cost of Living Plus Rent Index    0\n",
       "Groceries Index                   0\n",
       "Restaurant Price Index            0\n",
       "Local Purchasing Power Index      0\n",
       "dtype: int64"
      ]
     },
     "execution_count": 132,
     "metadata": {},
     "output_type": "execute_result"
    }
   ],
   "source": [
    "data.isna().sum()"
   ]
  },
  {
   "cell_type": "markdown",
   "id": "51de0c9e-0bc5-45a6-8414-f70996e0e0ff",
   "metadata": {},
   "source": [
    "Se comprueba que ya no hay ningún NaN en niguna variable numérica."
   ]
  },
  {
   "cell_type": "markdown",
   "id": "0140c5e8-2743-46cd-94a4-c90a0577eace",
   "metadata": {
    "tags": []
   },
   "source": [
    "##### 7. Comprobación de relaciones entre variables"
   ]
  },
  {
   "cell_type": "code",
   "execution_count": 133,
   "id": "a653f10e-4efc-40d3-8da0-6df9bf4eaa4a",
   "metadata": {},
   "outputs": [
    {
     "data": {
      "image/png": "[encoded data removed]",
      "text/plain": [
       "<Figure size 864x720 with 2 Axes>"
      ]
     },
     "metadata": {
      "needs_background": "light"
     },
     "output_type": "display_data"
    }
   ],
   "source": [
    "corr_matrix=data.corr(method='pearson')\n",
    "fig, ax = plt.subplots(figsize=(12, 10))\n",
    "ax = sns.heatmap(corr_matrix, annot=True)\n",
    "plt.show()"
   ]
  },
  {
   "cell_type": "markdown",
   "id": "f93e9a84-5e34-49ee-b8e5-1b6a0860c587",
   "metadata": {},
   "source": [
    "Esta matriz de correlación puede dar una idea general de las relaciones entre variables, pero no es lo suficientemente visual como para obtener información útil.\n",
    "\n",
    "Matriz de correlación:\n",
    "- Cerca de 1: relación directa (cuando aumenta X también lo hace Y)\n",
    "- Cerca de -1: relación indirecta (cuando aumenta X disminuye Y)"
   ]
  },
  {
   "cell_type": "code",
   "execution_count": 134,
   "id": "f8af8a72-ed96-4ed4-8415-774ce891579f",
   "metadata": {},
   "outputs": [
    {
     "data": {
      "image/png": "[encoded data removed]",
      "text/plain": [
       "<Figure size 792x648 with 2 Axes>"
      ]
     },
     "metadata": {
      "needs_background": "light"
     },
     "output_type": "display_data"
    }
   ],
   "source": [
    "corr=data.corr()     \n",
    "mask=np.triu(np.ones_like(corr, dtype=np.bool))     \n",
    "f, ax=plt.subplots(figsize=(11, 9))\n",
    "cmap=sns.diverging_palette(220, 10, as_cmap=True)   \n",
    "sns.heatmap(corr, mask=mask, cmap=cmap,             \n",
    "            vmax=.3, center=0, square=True,\n",
    "            linewidths=.5, cbar_kws={\"shrink\": .5});"
   ]
  },
  {
   "cell_type": "markdown",
   "id": "72b0bc11-708c-4245-86a9-85787b82ecb6",
   "metadata": {},
   "source": [
    "Esta otra matriz de correlación es mucho más visual y permite sacar información útil relativa a las variables. Se puede observar que las variables *\"Happiness Score\"* y *\"Happiness Rank\"* tienen una relación directa alta. Esto se debe a que ambas dan prácticamente la misma información, pues clasifican a los diferentes países en función del índice de felicidad (*\"Rank\"* hace referencia a la posición del país en el ranking y *\"Score\"* es la puntuación de ese país). Por lo tanto, la variable *\"Happiness Score\"* es prescindible y puede eliminarse, ya que *\"Happiness Rank\"* es más lógica o fácil de interpretar."
   ]
  },
  {
   "cell_type": "markdown",
   "id": "904087ed-e2df-4a33-a57c-a7f0ee66b166",
   "metadata": {},
   "source": [
    "Para poder observar mejor la relación entre la variable \"Crime Index\" y el resto de variables del dataset, **EXPLICAR!!!**"
   ]
  },
  {
   "cell_type": "code",
   "execution_count": 135,
   "id": "d7cc6048-850d-4c9c-8954-6a2bcb9a9c5c",
   "metadata": {},
   "outputs": [
    {
     "data": {
      "text/plain": [
       "Index(['Population (Millions)', 'GDP per Capita (PPP)', 'Tax Burden % of GDP',\n",
       "       'Government Expenditure (% GDP)', 'Unemployment (%)', 'Inflation (%)',\n",
       "       'Public Debt (% of GDP)', 'Literacy (%)', 'Birthrate', 'Deathrate',\n",
       "       'Business Freedom', 'Labor Freedom', 'Monetary Freedom',\n",
       "       'Trade Freedom', 'Investment Freedom ', 'Financial Freedom',\n",
       "       'Happiness Rank', 'Happiness score', 'Cost of Living Index',\n",
       "       'Rent Index', 'Cost of Living Plus Rent Index', 'Groceries Index',\n",
       "       'Restaurant Price Index', 'Local Purchasing Power Index'],\n",
       "      dtype='object')"
      ]
     },
     "execution_count": 135,
     "metadata": {},
     "output_type": "execute_result"
    }
   ],
   "source": [
    " data.select_dtypes(np.number).drop('Crime Index', axis=1).columns"
   ]
  },
  {
   "cell_type": "markdown",
   "id": "c772bdfa-6a8d-455d-b6a2-8fedaf3726c4",
   "metadata": {},
   "source": [
    "Explicación de las relaciones entre variables:\n",
    "- **Positiva:** relación directa entre las variables (cuando X (*\"una variable del dataset que no sea Crime Index\"* aumenta, también lo hace Y (*\"Crime Index\"*)).\n",
    "- **Negativa:** relación indirecta entre las variables (cuando X (*\"una variable del dataset que no sea Crime Index\"* aumenta, disminuye Y (*\"Crime Index\"*))."
   ]
  },
  {
   "cell_type": "markdown",
   "id": "82be03fd-af07-4334-8c19-0e3f1a25c352",
   "metadata": {},
   "source": [
    "##### 10. Limpieza de columnas prescindibles (aquellas que se ha comprobado que no afectan a la criminalidad) "
   ]
  },
  {
   "cell_type": "markdown",
   "id": "94001aa3-bc1a-45da-b3e9-b2cb3e13b138",
   "metadata": {},
   "source": [
    "Tras analizar tanto las matrices de correlación como la regresión lineal, se puede observar que las diferentes variables del dataset tienen la siguente relación con *\"Crime Index\"*, ordenadas de mayor a menor:\n",
    "- Cost of Living Plus Rent Index (-)\n",
    "- Cost of Living Index (+)\n",
    "- Rent Index (+) \n",
    "- Happiness Rank (-)\n",
    "- Happiness score (-)\n",
    "- Business Freedom (-)\n",
    "- Tax Burden % of GDP (-)\n",
    "- Monetary Freedom (+)\n",
    "- Population (Millions) (-)\n",
    "- Deathrate (-)\n",
    "- Financial Freedom (+)\n",
    "- Unemployment (%) (+)\n",
    "- Government Expenditure (% GDP) (+)\n",
    "- Public Debt (% of GDP) (+)\n",
    "- Local Purchasing Power Index (-)\n",
    "- GDP per capita (PPP) (+)\n",
    "- Labor Freedom (+)\n",
    "- Birthrate (+)\n",
    "- Inflation (%) (+)\n",
    "- Literacy (%) (-)\n",
    "- Investment Freedom (-)\n",
    "- Trade Freedom (-)"
   ]
  },
  {
   "cell_type": "markdown",
   "id": "dd42e644-9945-4bfc-a1f8-ba5f9dfb5625",
   "metadata": {},
   "source": [
    "Por lo tanto, se procederá a eliminar aquellas columnas (variables) que no den mucha información adicional (o den información idéntica o muy parecida)."
   ]
  },
  {
   "cell_type": "code",
   "execution_count": 136,
   "id": "2db73555-3ab8-4eb0-80e9-5849f8f4e99d",
   "metadata": {},
   "outputs": [],
   "source": [
    "data = data.drop(['Happiness score', 'Public Debt (% of GDP)', 'Local Purchasing Power Index', 'GDP per Capita (PPP)', 'Labor Freedom', 'Birthrate', 'Inflation (%)', 'Literacy (%)', 'Investment Freedom ', 'Trade Freedom', 'Groceries Index', 'Restaurant Price Index'], axis =1)"
   ]
  },
  {
   "cell_type": "code",
   "execution_count": 137,
   "id": "cf69bcb8-4d74-48be-8c90-82b0d0da9651",
   "metadata": {},
   "outputs": [
    {
     "data": {
      "text/html": [
       "<div>\n",
       "<style scoped>\n",
       "    .dataframe tbody tr th:only-of-type {\n",
       "        vertical-align: middle;\n",
       "    }\n",
       "\n",
       "    .dataframe tbody tr th {\n",
       "        vertical-align: top;\n",
       "    }\n",
       "\n",
       "    .dataframe thead th {\n",
       "        text-align: right;\n",
       "    }\n",
       "</style>\n",
       "<table border=\"1\" class=\"dataframe\">\n",
       "  <thead>\n",
       "    <tr style=\"text-align: right;\">\n",
       "      <th></th>\n",
       "      <th>Country Name</th>\n",
       "      <th>Continent</th>\n",
       "      <th>Population (Millions)</th>\n",
       "      <th>Tax Burden % of GDP</th>\n",
       "      <th>Government Expenditure (% GDP)</th>\n",
       "      <th>Unemployment (%)</th>\n",
       "      <th>Deathrate</th>\n",
       "      <th>Business Freedom</th>\n",
       "      <th>Monetary Freedom</th>\n",
       "      <th>Financial Freedom</th>\n",
       "      <th>Happiness Rank</th>\n",
       "      <th>Crime Index</th>\n",
       "      <th>Cost of Living Index</th>\n",
       "      <th>Rent Index</th>\n",
       "      <th>Cost of Living Plus Rent Index</th>\n",
       "    </tr>\n",
       "  </thead>\n",
       "  <tbody>\n",
       "    <tr>\n",
       "      <th>0</th>\n",
       "      <td>Afghanistan</td>\n",
       "      <td>Asia</td>\n",
       "      <td>38.928341</td>\n",
       "      <td>7.47</td>\n",
       "      <td>32.611614</td>\n",
       "      <td>11.73</td>\n",
       "      <td>20.34</td>\n",
       "      <td>60.317614</td>\n",
       "      <td>74.391477</td>\n",
       "      <td>48.863636</td>\n",
       "      <td>146.0</td>\n",
       "      <td>36.00</td>\n",
       "      <td>20.37</td>\n",
       "      <td>2.72</td>\n",
       "      <td>12.09</td>\n",
       "    </tr>\n",
       "    <tr>\n",
       "      <th>1</th>\n",
       "      <td>Albania</td>\n",
       "      <td>Europe</td>\n",
       "      <td>2.837743</td>\n",
       "      <td>18.30</td>\n",
       "      <td>30.514667</td>\n",
       "      <td>11.70</td>\n",
       "      <td>5.22</td>\n",
       "      <td>70.700000</td>\n",
       "      <td>82.000000</td>\n",
       "      <td>70.000000</td>\n",
       "      <td>90.0</td>\n",
       "      <td>42.53</td>\n",
       "      <td>35.50</td>\n",
       "      <td>8.47</td>\n",
       "      <td>22.83</td>\n",
       "    </tr>\n",
       "    <tr>\n",
       "      <th>2</th>\n",
       "      <td>Algeria</td>\n",
       "      <td>Africa</td>\n",
       "      <td>43.851043</td>\n",
       "      <td>37.20</td>\n",
       "      <td>37.827000</td>\n",
       "      <td>12.83</td>\n",
       "      <td>4.61</td>\n",
       "      <td>50.000000</td>\n",
       "      <td>80.100000</td>\n",
       "      <td>30.000000</td>\n",
       "      <td>96.0</td>\n",
       "      <td>52.03</td>\n",
       "      <td>26.87</td>\n",
       "      <td>4.59</td>\n",
       "      <td>16.43</td>\n",
       "    </tr>\n",
       "  </tbody>\n",
       "</table>\n",
       "</div>"
      ],
      "text/plain": [
       "  Country Name Continent  Population (Millions)  Tax Burden % of GDP  \\\n",
       "0  Afghanistan      Asia              38.928341                 7.47   \n",
       "1      Albania    Europe               2.837743                18.30   \n",
       "2      Algeria    Africa              43.851043                37.20   \n",
       "\n",
       "   Government Expenditure (% GDP)  Unemployment (%)  Deathrate  \\\n",
       "0                       32.611614             11.73      20.34   \n",
       "1                       30.514667             11.70       5.22   \n",
       "2                       37.827000             12.83       4.61   \n",
       "\n",
       "   Business Freedom  Monetary Freedom  Financial Freedom  Happiness Rank  \\\n",
       "0         60.317614         74.391477          48.863636           146.0   \n",
       "1         70.700000         82.000000          70.000000            90.0   \n",
       "2         50.000000         80.100000          30.000000            96.0   \n",
       "\n",
       "   Crime Index  Cost of Living Index  Rent Index  \\\n",
       "0        36.00                 20.37        2.72   \n",
       "1        42.53                 35.50        8.47   \n",
       "2        52.03                 26.87        4.59   \n",
       "\n",
       "   Cost of Living Plus Rent Index  \n",
       "0                           12.09  \n",
       "1                           22.83  \n",
       "2                           16.43  "
      ]
     },
     "execution_count": 137,
     "metadata": {},
     "output_type": "execute_result"
    }
   ],
   "source": [
    "data.head(3)"
   ]
  },
  {
   "cell_type": "code",
   "execution_count": 138,
   "id": "2f2d001f-3cee-4736-8049-b395e324375e",
   "metadata": {},
   "outputs": [
    {
     "data": {
      "image/png": "[encoded data removed]",
      "text/plain": [
       "<Figure size 792x648 with 2 Axes>"
      ]
     },
     "metadata": {
      "needs_background": "light"
     },
     "output_type": "display_data"
    }
   ],
   "source": [
    "corr=data.corr()     \n",
    "mask=np.triu(np.ones_like(corr, dtype=np.bool))     \n",
    "f, ax=plt.subplots(figsize=(11, 9))\n",
    "cmap=sns.diverging_palette(220, 10, as_cmap=True)   \n",
    "sns.heatmap(corr, mask=mask, cmap=cmap,             \n",
    "            vmax=.3, center=0, square=True,\n",
    "            linewidths=.5, cbar_kws={\"shrink\": .5});"
   ]
  },
  {
   "cell_type": "markdown",
   "id": "63b5e4ed-a2a3-461e-a14c-cbe861dc601f",
   "metadata": {},
   "source": [
    "En esta nueva matriz de correlación, en la cual ya se puede ver la relación que existe entre las diferentes varibales de manera más precisa, se observa que "
   ]
  },
  {
   "cell_type": "markdown",
   "id": "81c64546-e46c-4467-b422-0acb4d444825",
   "metadata": {},
   "source": [
    "#########data.drop(['Business Freedom'], axis=1)"
   ]
  },
  {
   "cell_type": "markdown",
   "id": "caa05c74-4fdf-4420-b202-2e168cbf9528",
   "metadata": {},
   "source": [
    "##### 8. Columnas Numéricas"
   ]
  },
  {
   "cell_type": "code",
   "execution_count": 139,
   "id": "7211cd5a-903b-449f-8871-686e1fffa70b",
   "metadata": {},
   "outputs": [],
   "source": [
    "num_cols=[c for c in data.columns if (data[c].dtype != 'object')]"
   ]
  },
  {
   "cell_type": "code",
   "execution_count": 140,
   "id": "1b71dd8b-5091-4a25-8742-561f672aa901",
   "metadata": {},
   "outputs": [
    {
     "data": {
      "text/plain": [
       "['Population (Millions)',\n",
       " 'Tax Burden % of GDP',\n",
       " 'Government Expenditure (% GDP)',\n",
       " 'Unemployment (%)',\n",
       " 'Deathrate',\n",
       " 'Business Freedom',\n",
       " 'Monetary Freedom',\n",
       " 'Financial Freedom',\n",
       " 'Happiness Rank',\n",
       " 'Crime Index',\n",
       " 'Cost of Living Index',\n",
       " 'Rent Index',\n",
       " 'Cost of Living Plus Rent Index']"
      ]
     },
     "execution_count": 140,
     "metadata": {},
     "output_type": "execute_result"
    }
   ],
   "source": [
    "num_cols"
   ]
  },
  {
   "cell_type": "markdown",
   "id": "49d6caa5-b032-42c7-83d2-9442d1a6fabb",
   "metadata": {
    "tags": []
   },
   "source": [
    "##### 9. Columnas Categóricas"
   ]
  },
  {
   "cell_type": "code",
   "execution_count": 141,
   "id": "5960a691-2f5f-4273-9eb3-6d242bb61dcb",
   "metadata": {},
   "outputs": [],
   "source": [
    "cat_cols = [col for col in data.columns if (data[col].dtype==object)]"
   ]
  },
  {
   "cell_type": "code",
   "execution_count": 142,
   "id": "cc801bae-d837-48e7-9bc9-73303802cc0d",
   "metadata": {},
   "outputs": [
    {
     "data": {
      "text/plain": [
       "['Country Name', 'Continent']"
      ]
     },
     "execution_count": 142,
     "metadata": {},
     "output_type": "execute_result"
    }
   ],
   "source": [
    "cat_cols"
   ]
  },
  {
   "cell_type": "markdown",
   "id": "a2cc16ae-ae19-4103-9e80-7042477eec9a",
   "metadata": {},
   "source": [
    "##### 10. Representación de columnas numéricas para identificar outliers"
   ]
  },
  {
   "cell_type": "code",
   "execution_count": 143,
   "id": "4f423ff1-a379-4d1c-b6b5-7da062ffbbbd",
   "metadata": {},
   "outputs": [
    {
     "data": {
      "image/png": "[encoded data removed]",
      "text/plain": [
       "<Figure size 720x360 with 1 Axes>"
      ]
     },
     "metadata": {
      "needs_background": "light"
     },
     "output_type": "display_data"
    },
    {
     "data": {
      "image/png": "[encoded data removed]",
      "text/plain": [
       "<Figure size 720x360 with 1 Axes>"
      ]
     },
     "metadata": {
      "needs_background": "light"
     },
     "output_type": "display_data"
    },
    {
     "data": {
      "image/png": "[encoded data removed]",
      "text/plain": [
       "<Figure size 720x360 with 1 Axes>"
      ]
     },
     "metadata": {
      "needs_background": "light"
     },
     "output_type": "display_data"
    },
    {
     "data": {
      "image/png": "[encoded data removed]",
      "text/plain": [
       "<Figure size 720x360 with 1 Axes>"
      ]
     },
     "metadata": {
      "needs_background": "light"
     },
     "output_type": "display_data"
    },
    {
     "data": {
      "image/png": "[encoded data removed]",
      "text/plain": [
       "<Figure size 720x360 with 1 Axes>"
      ]
     },
     "metadata": {
      "needs_background": "light"
     },
     "output_type": "display_data"
    },
    {
     "data": {
      "image/png": "[encoded data removed]",
      "text/plain": [
       "<Figure size 720x360 with 1 Axes>"
      ]
     },
     "metadata": {
      "needs_background": "light"
     },
     "output_type": "display_data"
    },
    {
     "data": {
      "image/png": "[encoded data removed]",
      "text/plain": [
       "<Figure size 720x360 with 1 Axes>"
      ]
     },
     "metadata": {
      "needs_background": "light"
     },
     "output_type": "display_data"
    },
    {
     "data": {
      "image/png": "[encoded data removed]",
      "text/plain": [
       "<Figure size 720x360 with 1 Axes>"
      ]
     },
     "metadata": {
      "needs_background": "light"
     },
     "output_type": "display_data"
    },
    {
     "data": {
      "image/png": "[encoded data removed]",
      "text/plain": [
       "<Figure size 720x360 with 1 Axes>"
      ]
     },
     "metadata": {
      "needs_background": "light"
     },
     "output_type": "display_data"
    },
    {
     "data": {
      "image/png": "[encoded data removed]",
      "text/plain": [
       "<Figure size 720x360 with 1 Axes>"
      ]
     },
     "metadata": {
      "needs_background": "light"
     },
     "output_type": "display_data"
    },
    {
     "data": {
      "image/png": "[encoded data removed]",
      "text/plain": [
       "<Figure size 720x360 with 1 Axes>"
      ]
     },
     "metadata": {
      "needs_background": "light"
     },
     "output_type": "display_data"
    },
    {
     "data": {
      "image/png": "[encoded data removed]",
      "text/plain": [
       "<Figure size 720x360 with 1 Axes>"
      ]
     },
     "metadata": {
      "needs_background": "light"
     },
     "output_type": "display_data"
    },
    {
     "data": {
      "image/png": "[encoded data removed]",
      "text/plain": [
       "<Figure size 720x360 with 1 Axes>"
      ]
     },
     "metadata": {
      "needs_background": "light"
     },
     "output_type": "display_data"
    }
   ],
   "source": [
    "for c in num_cols:\n",
    "    plt.figure(figsize=(10,5))\n",
    "    plt.boxplot(data[c])\n",
    "    plt.title(c)\n",
    "    plt.show();"
   ]
  },
  {
   "cell_type": "markdown",
   "id": "92633260-740d-4229-825d-0bacc2921e82",
   "metadata": {},
   "source": [
    "### Procesamiento de Datos"
   ]
  },
  {
   "cell_type": "markdown",
   "id": "85334b26-d7bc-4d80-9126-01a1caaf5022",
   "metadata": {},
   "source": [
    "##### 11. Tratamiento de outliers"
   ]
  },
  {
   "cell_type": "code",
   "execution_count": null,
   "id": "9f305dbf-00f0-48e6-a5a3-0337e5d8522a",
   "metadata": {},
   "outputs": [],
   "source": []
  },
  {
   "cell_type": "markdown",
   "id": "77bce211-69bb-4cbd-865a-1d1b008bdd97",
   "metadata": {},
   "source": [
    "##### 12. Normalización"
   ]
  },
  {
   "cell_type": "code",
   "execution_count": null,
   "id": "ed2b977b-6e30-4f40-93d6-91d92a106751",
   "metadata": {},
   "outputs": [],
   "source": []
  },
  {
   "cell_type": "code",
   "execution_count": null,
   "id": "0502c2e8-6f82-49a5-a950-ec986d58beb6",
   "metadata": {},
   "outputs": [],
   "source": []
  },
  {
   "cell_type": "markdown",
   "id": "34a14ced-b9b1-42df-9279-00ec53f67e14",
   "metadata": {},
   "source": [
    "- Codificación de datos categóricos y posterior concatenación de variables numéricas y categóricas."
   ]
  },
  {
   "cell_type": "code",
   "execution_count": 154,
   "id": "b5af28a3-31ea-498b-a541-da3a97509c79",
   "metadata": {},
   "outputs": [],
   "source": [
    "#####onehot encoding"
   ]
  },
  {
   "cell_type": "code",
   "execution_count": null,
   "id": "a56e957b-a005-43c0-9f6a-b2f5295f51eb",
   "metadata": {},
   "outputs": [],
   "source": [
    "one_hot_data = pd.get_dummies(data[cat_cols], drop_first=True)\n",
    "\n",
    "one_hot_data.head()"
   ]
  },
  {
   "cell_type": "markdown",
   "id": "f1bcf63a-a1c5-433f-9c02-0badffc3faa2",
   "metadata": {},
   "source": [
    "##### 13. Split (Train y Test)"
   ]
  },
  {
   "cell_type": "code",
   "execution_count": null,
   "id": "3047cdff-14cf-45a5-9fc3-aa6ba30e2c99",
   "metadata": {},
   "outputs": [],
   "source": []
  },
  {
   "cell_type": "code",
   "execution_count": null,
   "id": "c4bc4522-1771-4695-b403-02a088f58b46",
   "metadata": {},
   "outputs": [],
   "source": [
    "X_train, X_test, y_train, y_test = tts(X, y, test_size=0.2, random_state=42)"
   ]
  },
  {
   "cell_type": "markdown",
   "id": "d9d33f43-0be4-48f2-8d81-79715b3fcffc",
   "metadata": {},
   "source": [
    "- Standard Scaler"
   ]
  },
  {
   "cell_type": "code",
   "execution_count": null,
   "id": "b8a003b1-968c-447e-bb10-acf01de4ef97",
   "metadata": {},
   "outputs": [],
   "source": [
    "from sklearn.preprocessing import StandardScaler"
   ]
  },
  {
   "cell_type": "code",
   "execution_count": null,
   "id": "ce37c065-e06e-4a41-8d90-cc768bb6396c",
   "metadata": {},
   "outputs": [],
   "source": [
    "X = StandardScaler().fit_transform(X)"
   ]
  },
  {
   "cell_type": "markdown",
   "id": "95ac2f1a-884d-4c78-adf5-651aa06bd666",
   "metadata": {},
   "source": [
    "### Aplicación del Modelo"
   ]
  },
  {
   "cell_type": "code",
   "execution_count": 144,
   "id": "5bcf4827-49b4-4695-b2a8-65ddd7937a64",
   "metadata": {},
   "outputs": [],
   "source": [
    "from sklearn.linear_model import LinearRegression"
   ]
  },
  {
   "cell_type": "code",
   "execution_count": 145,
   "id": "b991961e-59a0-49fd-a0eb-08f2de4ff0e1",
   "metadata": {},
   "outputs": [],
   "source": [
    "model = LinearRegression()"
   ]
  },
  {
   "cell_type": "code",
   "execution_count": 146,
   "id": "455d5016-b338-433e-9171-142c38371322",
   "metadata": {},
   "outputs": [],
   "source": [
    "X = data.select_dtypes(np.number).drop('Crime Index', axis=1)\n",
    "y = data['Crime Index']"
   ]
  },
  {
   "cell_type": "code",
   "execution_count": 147,
   "id": "a3253d77-9c37-44c8-ab6b-4a925fe0ca18",
   "metadata": {},
   "outputs": [],
   "source": [
    "from sklearn.preprocessing import StandardScaler"
   ]
  },
  {
   "cell_type": "code",
   "execution_count": 148,
   "id": "9ee52035-717c-43d6-b188-862581f28b63",
   "metadata": {},
   "outputs": [],
   "source": [
    "X = StandardScaler().fit_transform(X)"
   ]
  },
  {
   "cell_type": "code",
   "execution_count": 149,
   "id": "4b1fb4e4-5c86-4813-9d4e-5a04db2cf032",
   "metadata": {},
   "outputs": [
    {
     "data": {
      "text/plain": [
       "LinearRegression()"
      ]
     },
     "execution_count": 149,
     "metadata": {},
     "output_type": "execute_result"
    }
   ],
   "source": [
    "model.fit(X, y)"
   ]
  },
  {
   "cell_type": "code",
   "execution_count": 150,
   "id": "3f4b2c4d-7da2-401e-b69e-f71a7efd424f",
   "metadata": {},
   "outputs": [],
   "source": [
    "importance = model.coef_"
   ]
  },
  {
   "cell_type": "code",
   "execution_count": 151,
   "id": "6671263d-76b2-411c-8ae3-519baaeeece4",
   "metadata": {},
   "outputs": [
    {
     "data": {
      "text/plain": [
       "[-5.09,\n",
       " -8.67,\n",
       " 3.68,\n",
       " 3.83,\n",
       " -4.08,\n",
       " -8.0,\n",
       " 2.3,\n",
       " 4.27,\n",
       " -4.47,\n",
       " 9614.84,\n",
       " 6181.51,\n",
       " -15185.96]"
      ]
     },
     "execution_count": 151,
     "metadata": {},
     "output_type": "execute_result"
    }
   ],
   "source": [
    "[round(i, 2) for i in importance]"
   ]
  },
  {
   "cell_type": "code",
   "execution_count": 152,
   "id": "c529ec74-d4e3-4d70-8c07-07566b86d837",
   "metadata": {},
   "outputs": [],
   "source": [
    "import matplotlib.pyplot as plt"
   ]
  },
  {
   "cell_type": "code",
   "execution_count": 153,
   "id": "e039606e-9ea4-4eea-8b4c-a40397db6634",
   "metadata": {},
   "outputs": [
    {
     "data": {
      "text/plain": [
       "<BarContainer object of 12 artists>"
      ]
     },
     "execution_count": 153,
     "metadata": {},
     "output_type": "execute_result"
    },
    {
     "data": {
      "image/png": "[encoded data removed]",
      "text/plain": [
       "<Figure size 432x288 with 1 Axes>"
      ]
     },
     "metadata": {
      "needs_background": "light"
     },
     "output_type": "display_data"
    }
   ],
   "source": [
    "plt.bar([x for x in range(len(importance))], importance)"
   ]
  },
  {
   "cell_type": "markdown",
   "id": "9d67bd66-2022-47d4-9fad-503972de5b18",
   "metadata": {},
   "source": [
    "##### 14. Regresión Lineal"
   ]
  },
  {
   "cell_type": "code",
   "execution_count": null,
   "id": "7365aaf3-ea4d-4778-8798-9d4dd468d652",
   "metadata": {},
   "outputs": [],
   "source": []
  },
  {
   "cell_type": "markdown",
   "id": "4097e6fe-2607-4501-b39f-076f20b6e70a",
   "metadata": {},
   "source": [
    "- Regularización (para mejorar el modelo)"
   ]
  },
  {
   "cell_type": "code",
   "execution_count": null,
   "id": "d9c67f6d-92ac-43bc-a309-0bfea85072f4",
   "metadata": {},
   "outputs": [],
   "source": []
  },
  {
   "cell_type": "markdown",
   "id": "b0977793-4084-4537-bf69-dab4981afac3",
   "metadata": {},
   "source": []
  },
  {
   "cell_type": "code",
   "execution_count": null,
   "id": "65c4dcb9-1184-44e8-8872-2d6f471503b7",
   "metadata": {},
   "outputs": [],
   "source": []
  },
  {
   "cell_type": "markdown",
   "id": "a1e60cb0-9de6-4fa7-90d8-38bed1239b3d",
   "metadata": {},
   "source": [
    "##### 15. Random Forest (si no funcionara la regresión linear)"
   ]
  },
  {
   "cell_type": "code",
   "execution_count": null,
   "id": "fb64e03e-315a-4eb7-a929-963e04b8457e",
   "metadata": {},
   "outputs": [],
   "source": []
  },
  {
   "cell_type": "markdown",
   "id": "1a48c162-dd0a-4d48-b54e-51cf16deba94",
   "metadata": {},
   "source": [
    "##### 16. KNN"
   ]
  },
  {
   "cell_type": "code",
   "execution_count": null,
   "id": "242b3d4a-1083-47be-895b-c26876d28330",
   "metadata": {},
   "outputs": [],
   "source": []
  },
  {
   "cell_type": "markdown",
   "id": "055b5adb-e2bf-4bfa-8b0b-0997ad20a139",
   "metadata": {},
   "source": [
    "##### 17. Clustering"
   ]
  },
  {
   "cell_type": "code",
   "execution_count": 32,
   "id": "0b0f75d6-cfdb-4470-9459-cd7831cb816f",
   "metadata": {},
   "outputs": [],
   "source": [
    "import pandas as pd\n",
    "df = pd.DataFrame({'a': [1, 2, 3, 4, 3, 1], 'b': [2, 8, 4, 6, 7, 8], 'c': ['Entidad', 'Entidad', 'Entidad', 'Entidad', 'Centroides', 'Centroides', ]})"
   ]
  },
  {
   "cell_type": "code",
   "execution_count": 29,
   "id": "0d31c348-b053-41a5-b990-c951b45eadc8",
   "metadata": {},
   "outputs": [
    {
     "data": {
      "application/vnd.plotly.v1+json": {
       "config": {
        "plotlyServerURL": "https://plot.ly"
       },
       "data": [
        {
         "hovertemplate": "c=Entidad<br>a=%{x}<br>b=%{y}<extra></extra>",
         "legendgroup": "Entidad",
         "marker": {
          "color": "#636efa",
          "symbol": "circle"
         },
         "mode": "markers",
         "name": "Entidad",
         "orientation": "v",
         "showlegend": true,
         "type": "scatter",
         "x": [
          1,
          2,
          3,
          4
         ],
         "xaxis": "x",
         "y": [
          2,
          8,
          4,
          6
         ],
         "yaxis": "y"
        },
        {
         "hovertemplate": "c=Centroides<br>a=%{x}<br>b=%{y}<extra></extra>",
         "legendgroup": "Centroides",
         "marker": {
          "color": "#EF553B",
          "symbol": "circle"
         },
         "mode": "markers",
         "name": "Centroides",
         "orientation": "v",
         "showlegend": true,
         "type": "scatter",
         "x": [
          3,
          1
         ],
         "xaxis": "x",
         "y": [
          7,
          8
         ],
         "yaxis": "y"
        }
       ],
       "layout": {
        "autosize": true,
        "legend": {
         "title": {
          "text": "c"
         },
         "tracegroupgap": 0
        },
        "margin": {
         "t": 60
        },
        "template": {
         "data": {
          "bar": [
           {
            "error_x": {
             "color": "#2a3f5f"
            },
            "error_y": {
             "color": "#2a3f5f"
            },
            "marker": {
             "line": {
              "color": "#E5ECF6",
              "width": 0.5
             },
             "pattern": {
              "fillmode": "overlay",
              "size": 10,
              "solidity": 0.2
             }
            },
            "type": "bar"
           }
          ],
          "barpolar": [
           {
            "marker": {
             "line": {
              "color": "#E5ECF6",
              "width": 0.5
             },
             "pattern": {
              "fillmode": "overlay",
              "size": 10,
              "solidity": 0.2
             }
            },
            "type": "barpolar"
           }
          ],
          "carpet": [
           {
            "aaxis": {
             "endlinecolor": "#2a3f5f",
             "gridcolor": "white",
             "linecolor": "white",
             "minorgridcolor": "white",
             "startlinecolor": "#2a3f5f"
            },
            "baxis": {
             "endlinecolor": "#2a3f5f",
             "gridcolor": "white",
             "linecolor": "white",
             "minorgridcolor": "white",
             "startlinecolor": "#2a3f5f"
            },
            "type": "carpet"
           }
          ],
          "choropleth": [
           {
            "colorbar": {
             "outlinewidth": 0,
             "ticks": ""
            },
            "type": "choropleth"
           }
          ],
          "contour": [
           {
            "colorbar": {
             "outlinewidth": 0,
             "ticks": ""
            },
            "colorscale": [
             [
              0,
              "#0d0887"
             ],
             [
              0.1111111111111111,
              "#46039f"
             ],
             [
              0.2222222222222222,
              "#7201a8"
             ],
             [
              0.3333333333333333,
              "#9c179e"
             ],
             [
              0.4444444444444444,
              "#bd3786"
             ],
             [
              0.5555555555555556,
              "#d8576b"
             ],
             [
              0.6666666666666666,
              "#ed7953"
             ],
             [
              0.7777777777777778,
              "#fb9f3a"
             ],
             [
              0.8888888888888888,
              "#fdca26"
             ],
             [
              1,
              "#f0f921"
             ]
            ],
            "type": "contour"
           }
          ],
          "contourcarpet": [
           {
            "colorbar": {
             "outlinewidth": 0,
             "ticks": ""
            },
            "type": "contourcarpet"
           }
          ],
          "heatmap": [
           {
            "colorbar": {
             "outlinewidth": 0,
             "ticks": ""
            },
            "colorscale": [
             [
              0,
              "#0d0887"
             ],
             [
              0.1111111111111111,
              "#46039f"
             ],
             [
              0.2222222222222222,
              "#7201a8"
             ],
             [
              0.3333333333333333,
              "#9c179e"
             ],
             [
              0.4444444444444444,
              "#bd3786"
             ],
             [
              0.5555555555555556,
              "#d8576b"
             ],
             [
              0.6666666666666666,
              "#ed7953"
             ],
             [
              0.7777777777777778,
              "#fb9f3a"
             ],
             [
              0.8888888888888888,
              "#fdca26"
             ],
             [
              1,
              "#f0f921"
             ]
            ],
            "type": "heatmap"
           }
          ],
          "heatmapgl": [
           {
            "colorbar": {
             "outlinewidth": 0,
             "ticks": ""
            },
            "colorscale": [
             [
              0,
              "#0d0887"
             ],
             [
              0.1111111111111111,
              "#46039f"
             ],
             [
              0.2222222222222222,
              "#7201a8"
             ],
             [
              0.3333333333333333,
              "#9c179e"
             ],
             [
              0.4444444444444444,
              "#bd3786"
             ],
             [
              0.5555555555555556,
              "#d8576b"
             ],
             [
              0.6666666666666666,
              "#ed7953"
             ],
             [
              0.7777777777777778,
              "#fb9f3a"
             ],
             [
              0.8888888888888888,
              "#fdca26"
             ],
             [
              1,
              "#f0f921"
             ]
            ],
            "type": "heatmapgl"
           }
          ],
          "histogram": [
           {
            "marker": {
             "pattern": {
              "fillmode": "overlay",
              "size": 10,
              "solidity": 0.2
             }
            },
            "type": "histogram"
           }
          ],
          "histogram2d": [
           {
            "colorbar": {
             "outlinewidth": 0,
             "ticks": ""
            },
            "colorscale": [
             [
              0,
              "#0d0887"
             ],
             [
              0.1111111111111111,
              "#46039f"
             ],
             [
              0.2222222222222222,
              "#7201a8"
             ],
             [
              0.3333333333333333,
              "#9c179e"
             ],
             [
              0.4444444444444444,
              "#bd3786"
             ],
             [
              0.5555555555555556,
              "#d8576b"
             ],
             [
              0.6666666666666666,
              "#ed7953"
             ],
             [
              0.7777777777777778,
              "#fb9f3a"
             ],
             [
              0.8888888888888888,
              "#fdca26"
             ],
             [
              1,
              "#f0f921"
             ]
            ],
            "type": "histogram2d"
           }
          ],
          "histogram2dcontour": [
           {
            "colorbar": {
             "outlinewidth": 0,
             "ticks": ""
            },
            "colorscale": [
             [
              0,
              "#0d0887"
             ],
             [
              0.1111111111111111,
              "#46039f"
             ],
             [
              0.2222222222222222,
              "#7201a8"
             ],
             [
              0.3333333333333333,
              "#9c179e"
             ],
             [
              0.4444444444444444,
              "#bd3786"
             ],
             [
              0.5555555555555556,
              "#d8576b"
             ],
             [
              0.6666666666666666,
              "#ed7953"
             ],
             [
              0.7777777777777778,
              "#fb9f3a"
             ],
             [
              0.8888888888888888,
              "#fdca26"
             ],
             [
              1,
              "#f0f921"
             ]
            ],
            "type": "histogram2dcontour"
           }
          ],
          "mesh3d": [
           {
            "colorbar": {
             "outlinewidth": 0,
             "ticks": ""
            },
            "type": "mesh3d"
           }
          ],
          "parcoords": [
           {
            "line": {
             "colorbar": {
              "outlinewidth": 0,
              "ticks": ""
             }
            },
            "type": "parcoords"
           }
          ],
          "pie": [
           {
            "automargin": true,
            "type": "pie"
           }
          ],
          "scatter": [
           {
            "marker": {
             "colorbar": {
              "outlinewidth": 0,
              "ticks": ""
             }
            },
            "type": "scatter"
           }
          ],
          "scatter3d": [
           {
            "line": {
             "colorbar": {
              "outlinewidth": 0,
              "ticks": ""
             }
            },
            "marker": {
             "colorbar": {
              "outlinewidth": 0,
              "ticks": ""
             }
            },
            "type": "scatter3d"
           }
          ],
          "scattercarpet": [
           {
            "marker": {
             "colorbar": {
              "outlinewidth": 0,
              "ticks": ""
             }
            },
            "type": "scattercarpet"
           }
          ],
          "scattergeo": [
           {
            "marker": {
             "colorbar": {
              "outlinewidth": 0,
              "ticks": ""
             }
            },
            "type": "scattergeo"
           }
          ],
          "scattergl": [
           {
            "marker": {
             "colorbar": {
              "outlinewidth": 0,
              "ticks": ""
             }
            },
            "type": "scattergl"
           }
          ],
          "scattermapbox": [
           {
            "marker": {
             "colorbar": {
              "outlinewidth": 0,
              "ticks": ""
             }
            },
            "type": "scattermapbox"
           }
          ],
          "scatterpolar": [
           {
            "marker": {
             "colorbar": {
              "outlinewidth": 0,
              "ticks": ""
             }
            },
            "type": "scatterpolar"
           }
          ],
          "scatterpolargl": [
           {
            "marker": {
             "colorbar": {
              "outlinewidth": 0,
              "ticks": ""
             }
            },
            "type": "scatterpolargl"
           }
          ],
          "scatterternary": [
           {
            "marker": {
             "colorbar": {
              "outlinewidth": 0,
              "ticks": ""
             }
            },
            "type": "scatterternary"
           }
          ],
          "surface": [
           {
            "colorbar": {
             "outlinewidth": 0,
             "ticks": ""
            },
            "colorscale": [
             [
              0,
              "#0d0887"
             ],
             [
              0.1111111111111111,
              "#46039f"
             ],
             [
              0.2222222222222222,
              "#7201a8"
             ],
             [
              0.3333333333333333,
              "#9c179e"
             ],
             [
              0.4444444444444444,
              "#bd3786"
             ],
             [
              0.5555555555555556,
              "#d8576b"
             ],
             [
              0.6666666666666666,
              "#ed7953"
             ],
             [
              0.7777777777777778,
              "#fb9f3a"
             ],
             [
              0.8888888888888888,
              "#fdca26"
             ],
             [
              1,
              "#f0f921"
             ]
            ],
            "type": "surface"
           }
          ],
          "table": [
           {
            "cells": {
             "fill": {
              "color": "#EBF0F8"
             },
             "line": {
              "color": "white"
             }
            },
            "header": {
             "fill": {
              "color": "#C8D4E3"
             },
             "line": {
              "color": "white"
             }
            },
            "type": "table"
           }
          ]
         },
         "layout": {
          "annotationdefaults": {
           "arrowcolor": "#2a3f5f",
           "arrowhead": 0,
           "arrowwidth": 1
          },
          "autotypenumbers": "strict",
          "coloraxis": {
           "colorbar": {
            "outlinewidth": 0,
            "ticks": ""
           }
          },
          "colorscale": {
           "diverging": [
            [
             0,
             "#8e0152"
            ],
            [
             0.1,
             "#c51b7d"
            ],
            [
             0.2,
             "#de77ae"
            ],
            [
             0.3,
             "#f1b6da"
            ],
            [
             0.4,
             "#fde0ef"
            ],
            [
             0.5,
             "#f7f7f7"
            ],
            [
             0.6,
             "#e6f5d0"
            ],
            [
             0.7,
             "#b8e186"
            ],
            [
             0.8,
             "#7fbc41"
            ],
            [
             0.9,
             "#4d9221"
            ],
            [
             1,
             "#276419"
            ]
           ],
           "sequential": [
            [
             0,
             "#0d0887"
            ],
            [
             0.1111111111111111,
             "#46039f"
            ],
            [
             0.2222222222222222,
             "#7201a8"
            ],
            [
             0.3333333333333333,
             "#9c179e"
            ],
            [
             0.4444444444444444,
             "#bd3786"
            ],
            [
             0.5555555555555556,
             "#d8576b"
            ],
            [
             0.6666666666666666,
             "#ed7953"
            ],
            [
             0.7777777777777778,
             "#fb9f3a"
            ],
            [
             0.8888888888888888,
             "#fdca26"
            ],
            [
             1,
             "#f0f921"
            ]
           ],
           "sequentialminus": [
            [
             0,
             "#0d0887"
            ],
            [
             0.1111111111111111,
             "#46039f"
            ],
            [
             0.2222222222222222,
             "#7201a8"
            ],
            [
             0.3333333333333333,
             "#9c179e"
            ],
            [
             0.4444444444444444,
             "#bd3786"
            ],
            [
             0.5555555555555556,
             "#d8576b"
            ],
            [
             0.6666666666666666,
             "#ed7953"
            ],
            [
             0.7777777777777778,
             "#fb9f3a"
            ],
            [
             0.8888888888888888,
             "#fdca26"
            ],
            [
             1,
             "#f0f921"
            ]
           ]
          },
          "colorway": [
           "#636efa",
           "#EF553B",
           "#00cc96",
           "#ab63fa",
           "#FFA15A",
           "#19d3f3",
           "#FF6692",
           "#B6E880",
           "#FF97FF",
           "#FECB52"
          ],
          "font": {
           "color": "#2a3f5f"
          },
          "geo": {
           "bgcolor": "white",
           "lakecolor": "white",
           "landcolor": "#E5ECF6",
           "showlakes": true,
           "showland": true,
           "subunitcolor": "white"
          },
          "hoverlabel": {
           "align": "left"
          },
          "hovermode": "closest",
          "mapbox": {
           "style": "light"
          },
          "paper_bgcolor": "white",
          "plot_bgcolor": "#E5ECF6",
          "polar": {
           "angularaxis": {
            "gridcolor": "white",
            "linecolor": "white",
            "ticks": ""
           },
           "bgcolor": "#E5ECF6",
           "radialaxis": {
            "gridcolor": "white",
            "linecolor": "white",
            "ticks": ""
           }
          },
          "scene": {
           "xaxis": {
            "backgroundcolor": "#E5ECF6",
            "gridcolor": "white",
            "gridwidth": 2,
            "linecolor": "white",
            "showbackground": true,
            "ticks": "",
            "zerolinecolor": "white"
           },
           "yaxis": {
            "backgroundcolor": "#E5ECF6",
            "gridcolor": "white",
            "gridwidth": 2,
            "linecolor": "white",
            "showbackground": true,
            "ticks": "",
            "zerolinecolor": "white"
           },
           "zaxis": {
            "backgroundcolor": "#E5ECF6",
            "gridcolor": "white",
            "gridwidth": 2,
            "linecolor": "white",
            "showbackground": true,
            "ticks": "",
            "zerolinecolor": "white"
           }
          },
          "shapedefaults": {
           "line": {
            "color": "#2a3f5f"
           }
          },
          "ternary": {
           "aaxis": {
            "gridcolor": "white",
            "linecolor": "white",
            "ticks": ""
           },
           "baxis": {
            "gridcolor": "white",
            "linecolor": "white",
            "ticks": ""
           },
           "bgcolor": "#E5ECF6",
           "caxis": {
            "gridcolor": "white",
            "linecolor": "white",
            "ticks": ""
           }
          },
          "title": {
           "x": 0.05
          },
          "xaxis": {
           "automargin": true,
           "gridcolor": "white",
           "linecolor": "white",
           "ticks": "",
           "title": {
            "standoff": 15
           },
           "zerolinecolor": "white",
           "zerolinewidth": 2
          },
          "yaxis": {
           "automargin": true,
           "gridcolor": "white",
           "linecolor": "white",
           "ticks": "",
           "title": {
            "standoff": 15
           },
           "zerolinecolor": "white",
           "zerolinewidth": 2
          }
         }
        },
        "xaxis": {
         "anchor": "y",
         "autorange": true,
         "domain": [
          0,
          1
         ],
         "range": [
          0.8105147864184008,
          4.189485213581599
         ],
         "title": {
          "text": "a"
         },
         "type": "linear"
        },
        "yaxis": {
         "anchor": "x",
         "autorange": true,
         "domain": [
          0,
          1
         ],
         "range": [
          1.5354330708661417,
          8.464566929133857
         ],
         "title": {
          "text": "b"
         },
         "type": "linear"
        }
       }
      },
      "image/png": "[encoded data removed]",
      "text/html": [
       "<div>                            <div id=\"4fe8ed16-5293-4d8d-873f-0c25b2723c8c\" class=\"plotly-graph-div\" style=\"height:525px; width:100%;\"></div>            <script type=\"text/javascript\">                require([\"plotly\"], function(Plotly) {                    window.PLOTLYENV=window.PLOTLYENV || {};                                    if (document.getElementById(\"4fe8ed16-5293-4d8d-873f-0c25b2723c8c\")) {                    Plotly.newPlot(                        \"4fe8ed16-5293-4d8d-873f-0c25b2723c8c\",                        [{\"hovertemplate\":\"c=Entidad<br>a=%{x}<br>b=%{y}<extra></extra>\",\"legendgroup\":\"Entidad\",\"marker\":{\"color\":\"#636efa\",\"symbol\":\"circle\"},\"mode\":\"markers\",\"name\":\"Entidad\",\"orientation\":\"v\",\"showlegend\":true,\"x\":[1,2,3,4],\"xaxis\":\"x\",\"y\":[2,8,4,6],\"yaxis\":\"y\",\"type\":\"scatter\"},{\"hovertemplate\":\"c=Centroides<br>a=%{x}<br>b=%{y}<extra></extra>\",\"legendgroup\":\"Centroides\",\"marker\":{\"color\":\"#EF553B\",\"symbol\":\"circle\"},\"mode\":\"markers\",\"name\":\"Centroides\",\"orientation\":\"v\",\"showlegend\":true,\"x\":[3,1],\"xaxis\":\"x\",\"y\":[7,8],\"yaxis\":\"y\",\"type\":\"scatter\"}],                        {\"template\":{\"data\":{\"bar\":[{\"error_x\":{\"color\":\"#2a3f5f\"},\"error_y\":{\"color\":\"#2a3f5f\"},\"marker\":{\"line\":{\"color\":\"#E5ECF6\",\"width\":0.5},\"pattern\":{\"fillmode\":\"overlay\",\"size\":10,\"solidity\":0.2}},\"type\":\"bar\"}],\"barpolar\":[{\"marker\":{\"line\":{\"color\":\"#E5ECF6\",\"width\":0.5},\"pattern\":{\"fillmode\":\"overlay\",\"size\":10,\"solidity\":0.2}},\"type\":\"barpolar\"}],\"carpet\":[{\"aaxis\":{\"endlinecolor\":\"#2a3f5f\",\"gridcolor\":\"white\",\"linecolor\":\"white\",\"minorgridcolor\":\"white\",\"startlinecolor\":\"#2a3f5f\"},\"baxis\":{\"endlinecolor\":\"#2a3f5f\",\"gridcolor\":\"white\",\"linecolor\":\"white\",\"minorgridcolor\":\"white\",\"startlinecolor\":\"#2a3f5f\"},\"type\":\"carpet\"}],\"choropleth\":[{\"colorbar\":{\"outlinewidth\":0,\"ticks\":\"\"},\"type\":\"choropleth\"}],\"contour\":[{\"colorbar\":{\"outlinewidth\":0,\"ticks\":\"\"},\"colorscale\":[[0.0,\"#0d0887\"],[0.1111111111111111,\"#46039f\"],[0.2222222222222222,\"#7201a8\"],[0.3333333333333333,\"#9c179e\"],[0.4444444444444444,\"#bd3786\"],[0.5555555555555556,\"#d8576b\"],[0.6666666666666666,\"#ed7953\"],[0.7777777777777778,\"#fb9f3a\"],[0.8888888888888888,\"#fdca26\"],[1.0,\"#f0f921\"]],\"type\":\"contour\"}],\"contourcarpet\":[{\"colorbar\":{\"outlinewidth\":0,\"ticks\":\"\"},\"type\":\"contourcarpet\"}],\"heatmap\":[{\"colorbar\":{\"outlinewidth\":0,\"ticks\":\"\"},\"colorscale\":[[0.0,\"#0d0887\"],[0.1111111111111111,\"#46039f\"],[0.2222222222222222,\"#7201a8\"],[0.3333333333333333,\"#9c179e\"],[0.4444444444444444,\"#bd3786\"],[0.5555555555555556,\"#d8576b\"],[0.6666666666666666,\"#ed7953\"],[0.7777777777777778,\"#fb9f3a\"],[0.8888888888888888,\"#fdca26\"],[1.0,\"#f0f921\"]],\"type\":\"heatmap\"}],\"heatmapgl\":[{\"colorbar\":{\"outlinewidth\":0,\"ticks\":\"\"},\"colorscale\":[[0.0,\"#0d0887\"],[0.1111111111111111,\"#46039f\"],[0.2222222222222222,\"#7201a8\"],[0.3333333333333333,\"#9c179e\"],[0.4444444444444444,\"#bd3786\"],[0.5555555555555556,\"#d8576b\"],[0.6666666666666666,\"#ed7953\"],[0.7777777777777778,\"#fb9f3a\"],[0.8888888888888888,\"#fdca26\"],[1.0,\"#f0f921\"]],\"type\":\"heatmapgl\"}],\"histogram\":[{\"marker\":{\"pattern\":{\"fillmode\":\"overlay\",\"size\":10,\"solidity\":0.2}},\"type\":\"histogram\"}],\"histogram2d\":[{\"colorbar\":{\"outlinewidth\":0,\"ticks\":\"\"},\"colorscale\":[[0.0,\"#0d0887\"],[0.1111111111111111,\"#46039f\"],[0.2222222222222222,\"#7201a8\"],[0.3333333333333333,\"#9c179e\"],[0.4444444444444444,\"#bd3786\"],[0.5555555555555556,\"#d8576b\"],[0.6666666666666666,\"#ed7953\"],[0.7777777777777778,\"#fb9f3a\"],[0.8888888888888888,\"#fdca26\"],[1.0,\"#f0f921\"]],\"type\":\"histogram2d\"}],\"histogram2dcontour\":[{\"colorbar\":{\"outlinewidth\":0,\"ticks\":\"\"},\"colorscale\":[[0.0,\"#0d0887\"],[0.1111111111111111,\"#46039f\"],[0.2222222222222222,\"#7201a8\"],[0.3333333333333333,\"#9c179e\"],[0.4444444444444444,\"#bd3786\"],[0.5555555555555556,\"#d8576b\"],[0.6666666666666666,\"#ed7953\"],[0.7777777777777778,\"#fb9f3a\"],[0.8888888888888888,\"#fdca26\"],[1.0,\"#f0f921\"]],\"type\":\"histogram2dcontour\"}],\"mesh3d\":[{\"colorbar\":{\"outlinewidth\":0,\"ticks\":\"\"},\"type\":\"mesh3d\"}],\"parcoords\":[{\"line\":{\"colorbar\":{\"outlinewidth\":0,\"ticks\":\"\"}},\"type\":\"parcoords\"}],\"pie\":[{\"automargin\":true,\"type\":\"pie\"}],\"scatter\":[{\"marker\":{\"colorbar\":{\"outlinewidth\":0,\"ticks\":\"\"}},\"type\":\"scatter\"}],\"scatter3d\":[{\"line\":{\"colorbar\":{\"outlinewidth\":0,\"ticks\":\"\"}},\"marker\":{\"colorbar\":{\"outlinewidth\":0,\"ticks\":\"\"}},\"type\":\"scatter3d\"}],\"scattercarpet\":[{\"marker\":{\"colorbar\":{\"outlinewidth\":0,\"ticks\":\"\"}},\"type\":\"scattercarpet\"}],\"scattergeo\":[{\"marker\":{\"colorbar\":{\"outlinewidth\":0,\"ticks\":\"\"}},\"type\":\"scattergeo\"}],\"scattergl\":[{\"marker\":{\"colorbar\":{\"outlinewidth\":0,\"ticks\":\"\"}},\"type\":\"scattergl\"}],\"scattermapbox\":[{\"marker\":{\"colorbar\":{\"outlinewidth\":0,\"ticks\":\"\"}},\"type\":\"scattermapbox\"}],\"scatterpolar\":[{\"marker\":{\"colorbar\":{\"outlinewidth\":0,\"ticks\":\"\"}},\"type\":\"scatterpolar\"}],\"scatterpolargl\":[{\"marker\":{\"colorbar\":{\"outlinewidth\":0,\"ticks\":\"\"}},\"type\":\"scatterpolargl\"}],\"scatterternary\":[{\"marker\":{\"colorbar\":{\"outlinewidth\":0,\"ticks\":\"\"}},\"type\":\"scatterternary\"}],\"surface\":[{\"colorbar\":{\"outlinewidth\":0,\"ticks\":\"\"},\"colorscale\":[[0.0,\"#0d0887\"],[0.1111111111111111,\"#46039f\"],[0.2222222222222222,\"#7201a8\"],[0.3333333333333333,\"#9c179e\"],[0.4444444444444444,\"#bd3786\"],[0.5555555555555556,\"#d8576b\"],[0.6666666666666666,\"#ed7953\"],[0.7777777777777778,\"#fb9f3a\"],[0.8888888888888888,\"#fdca26\"],[1.0,\"#f0f921\"]],\"type\":\"surface\"}],\"table\":[{\"cells\":{\"fill\":{\"color\":\"#EBF0F8\"},\"line\":{\"color\":\"white\"}},\"header\":{\"fill\":{\"color\":\"#C8D4E3\"},\"line\":{\"color\":\"white\"}},\"type\":\"table\"}]},\"layout\":{\"annotationdefaults\":{\"arrowcolor\":\"#2a3f5f\",\"arrowhead\":0,\"arrowwidth\":1},\"autotypenumbers\":\"strict\",\"coloraxis\":{\"colorbar\":{\"outlinewidth\":0,\"ticks\":\"\"}},\"colorscale\":{\"diverging\":[[0,\"#8e0152\"],[0.1,\"#c51b7d\"],[0.2,\"#de77ae\"],[0.3,\"#f1b6da\"],[0.4,\"#fde0ef\"],[0.5,\"#f7f7f7\"],[0.6,\"#e6f5d0\"],[0.7,\"#b8e186\"],[0.8,\"#7fbc41\"],[0.9,\"#4d9221\"],[1,\"#276419\"]],\"sequential\":[[0.0,\"#0d0887\"],[0.1111111111111111,\"#46039f\"],[0.2222222222222222,\"#7201a8\"],[0.3333333333333333,\"#9c179e\"],[0.4444444444444444,\"#bd3786\"],[0.5555555555555556,\"#d8576b\"],[0.6666666666666666,\"#ed7953\"],[0.7777777777777778,\"#fb9f3a\"],[0.8888888888888888,\"#fdca26\"],[1.0,\"#f0f921\"]],\"sequentialminus\":[[0.0,\"#0d0887\"],[0.1111111111111111,\"#46039f\"],[0.2222222222222222,\"#7201a8\"],[0.3333333333333333,\"#9c179e\"],[0.4444444444444444,\"#bd3786\"],[0.5555555555555556,\"#d8576b\"],[0.6666666666666666,\"#ed7953\"],[0.7777777777777778,\"#fb9f3a\"],[0.8888888888888888,\"#fdca26\"],[1.0,\"#f0f921\"]]},\"colorway\":[\"#636efa\",\"#EF553B\",\"#00cc96\",\"#ab63fa\",\"#FFA15A\",\"#19d3f3\",\"#FF6692\",\"#B6E880\",\"#FF97FF\",\"#FECB52\"],\"font\":{\"color\":\"#2a3f5f\"},\"geo\":{\"bgcolor\":\"white\",\"lakecolor\":\"white\",\"landcolor\":\"#E5ECF6\",\"showlakes\":true,\"showland\":true,\"subunitcolor\":\"white\"},\"hoverlabel\":{\"align\":\"left\"},\"hovermode\":\"closest\",\"mapbox\":{\"style\":\"light\"},\"paper_bgcolor\":\"white\",\"plot_bgcolor\":\"#E5ECF6\",\"polar\":{\"angularaxis\":{\"gridcolor\":\"white\",\"linecolor\":\"white\",\"ticks\":\"\"},\"bgcolor\":\"#E5ECF6\",\"radialaxis\":{\"gridcolor\":\"white\",\"linecolor\":\"white\",\"ticks\":\"\"}},\"scene\":{\"xaxis\":{\"backgroundcolor\":\"#E5ECF6\",\"gridcolor\":\"white\",\"gridwidth\":2,\"linecolor\":\"white\",\"showbackground\":true,\"ticks\":\"\",\"zerolinecolor\":\"white\"},\"yaxis\":{\"backgroundcolor\":\"#E5ECF6\",\"gridcolor\":\"white\",\"gridwidth\":2,\"linecolor\":\"white\",\"showbackground\":true,\"ticks\":\"\",\"zerolinecolor\":\"white\"},\"zaxis\":{\"backgroundcolor\":\"#E5ECF6\",\"gridcolor\":\"white\",\"gridwidth\":2,\"linecolor\":\"white\",\"showbackground\":true,\"ticks\":\"\",\"zerolinecolor\":\"white\"}},\"shapedefaults\":{\"line\":{\"color\":\"#2a3f5f\"}},\"ternary\":{\"aaxis\":{\"gridcolor\":\"white\",\"linecolor\":\"white\",\"ticks\":\"\"},\"baxis\":{\"gridcolor\":\"white\",\"linecolor\":\"white\",\"ticks\":\"\"},\"bgcolor\":\"#E5ECF6\",\"caxis\":{\"gridcolor\":\"white\",\"linecolor\":\"white\",\"ticks\":\"\"}},\"title\":{\"x\":0.05},\"xaxis\":{\"automargin\":true,\"gridcolor\":\"white\",\"linecolor\":\"white\",\"ticks\":\"\",\"title\":{\"standoff\":15},\"zerolinecolor\":\"white\",\"zerolinewidth\":2},\"yaxis\":{\"automargin\":true,\"gridcolor\":\"white\",\"linecolor\":\"white\",\"ticks\":\"\",\"title\":{\"standoff\":15},\"zerolinecolor\":\"white\",\"zerolinewidth\":2}}},\"xaxis\":{\"anchor\":\"y\",\"domain\":[0.0,1.0],\"title\":{\"text\":\"a\"}},\"yaxis\":{\"anchor\":\"x\",\"domain\":[0.0,1.0],\"title\":{\"text\":\"b\"}},\"legend\":{\"title\":{\"text\":\"c\"},\"tracegroupgap\":0},\"margin\":{\"t\":60}},                        {\"responsive\": true}                    ).then(function(){\n",
       "                            \n",
       "var gd = document.getElementById('4fe8ed16-5293-4d8d-873f-0c25b2723c8c');\n",
       "var x = new MutationObserver(function (mutations, observer) {{\n",
       "        var display = window.getComputedStyle(gd).display;\n",
       "        if (!display || display === 'none') {{\n",
       "            console.log([gd, 'removed!']);\n",
       "            Plotly.purge(gd);\n",
       "            observer.disconnect();\n",
       "        }}\n",
       "}});\n",
       "\n",
       "// Listen for the removal of the full notebook cells\n",
       "var notebookContainer = gd.closest('#notebook-container');\n",
       "if (notebookContainer) {{\n",
       "    x.observe(notebookContainer, {childList: true});\n",
       "}}\n",
       "\n",
       "// Listen for the clearing of the current output cell\n",
       "var outputEl = gd.closest('.output');\n",
       "if (outputEl) {{\n",
       "    x.observe(outputEl, {childList: true});\n",
       "}}\n",
       "\n",
       "                        })                };                });            </script>        </div>"
      ]
     },
     "metadata": {},
     "output_type": "display_data"
    }
   ],
   "source": [
    "import plotly.express as px\n",
    "px.scatter(df, x='a', y='b', color='c')"
   ]
  },
  {
   "cell_type": "code",
   "execution_count": 33,
   "id": "3b0a97c6-9f6d-4d86-910a-1b586ca536d3",
   "metadata": {},
   "outputs": [
    {
     "data": {
      "text/plain": [
       "KMeans(n_clusters=2)"
      ]
     },
     "execution_count": 33,
     "metadata": {},
     "output_type": "execute_result"
    }
   ],
   "source": [
    "from sklearn.cluster import KMeans\n",
    "KM = KMeans(2)\n",
    "KM.fit(df.drop(columns = 'c'))"
   ]
  },
  {
   "cell_type": "code",
   "execution_count": 34,
   "id": "073906ea-01ed-4fa1-8bf7-3193ebf2c599",
   "metadata": {},
   "outputs": [],
   "source": [
    "df['cluster'] = KM.predict(df.drop(columns = 'c'))"
   ]
  },
  {
   "cell_type": "code",
   "execution_count": 35,
   "id": "455fae8a-43ef-48ca-8c44-3e5cd13f6fff",
   "metadata": {},
   "outputs": [
    {
     "data": {
      "application/vnd.plotly.v1+json": {
       "config": {
        "plotlyServerURL": "https://plot.ly"
       },
       "data": [
        {
         "hovertemplate": "a=%{x}<br>b=%{y}<br>cluster=%{marker.color}<extra></extra>",
         "legendgroup": "",
         "marker": {
          "color": [
           1,
           0,
           1,
           0
          ],
          "coloraxis": "coloraxis",
          "symbol": "circle"
         },
         "mode": "markers",
         "name": "",
         "orientation": "v",
         "showlegend": false,
         "type": "scatter",
         "x": [
          1,
          2,
          3,
          4
         ],
         "xaxis": "x",
         "y": [
          2,
          8,
          4,
          6
         ],
         "yaxis": "y"
        }
       ],
       "layout": {
        "autosize": true,
        "coloraxis": {
         "colorbar": {
          "title": {
           "text": "cluster"
          }
         },
         "colorscale": [
          [
           0,
           "#0d0887"
          ],
          [
           0.1111111111111111,
           "#46039f"
          ],
          [
           0.2222222222222222,
           "#7201a8"
          ],
          [
           0.3333333333333333,
           "#9c179e"
          ],
          [
           0.4444444444444444,
           "#bd3786"
          ],
          [
           0.5555555555555556,
           "#d8576b"
          ],
          [
           0.6666666666666666,
           "#ed7953"
          ],
          [
           0.7777777777777778,
           "#fb9f3a"
          ],
          [
           0.8888888888888888,
           "#fdca26"
          ],
          [
           1,
           "#f0f921"
          ]
         ]
        },
        "legend": {
         "tracegroupgap": 0
        },
        "margin": {
         "t": 60
        },
        "template": {
         "data": {
          "bar": [
           {
            "error_x": {
             "color": "#2a3f5f"
            },
            "error_y": {
             "color": "#2a3f5f"
            },
            "marker": {
             "line": {
              "color": "#E5ECF6",
              "width": 0.5
             },
             "pattern": {
              "fillmode": "overlay",
              "size": 10,
              "solidity": 0.2
             }
            },
            "type": "bar"
           }
          ],
          "barpolar": [
           {
            "marker": {
             "line": {
              "color": "#E5ECF6",
              "width": 0.5
             },
             "pattern": {
              "fillmode": "overlay",
              "size": 10,
              "solidity": 0.2
             }
            },
            "type": "barpolar"
           }
          ],
          "carpet": [
           {
            "aaxis": {
             "endlinecolor": "#2a3f5f",
             "gridcolor": "white",
             "linecolor": "white",
             "minorgridcolor": "white",
             "startlinecolor": "#2a3f5f"
            },
            "baxis": {
             "endlinecolor": "#2a3f5f",
             "gridcolor": "white",
             "linecolor": "white",
             "minorgridcolor": "white",
             "startlinecolor": "#2a3f5f"
            },
            "type": "carpet"
           }
          ],
          "choropleth": [
           {
            "colorbar": {
             "outlinewidth": 0,
             "ticks": ""
            },
            "type": "choropleth"
           }
          ],
          "contour": [
           {
            "colorbar": {
             "outlinewidth": 0,
             "ticks": ""
            },
            "colorscale": [
             [
              0,
              "#0d0887"
             ],
             [
              0.1111111111111111,
              "#46039f"
             ],
             [
              0.2222222222222222,
              "#7201a8"
             ],
             [
              0.3333333333333333,
              "#9c179e"
             ],
             [
              0.4444444444444444,
              "#bd3786"
             ],
             [
              0.5555555555555556,
              "#d8576b"
             ],
             [
              0.6666666666666666,
              "#ed7953"
             ],
             [
              0.7777777777777778,
              "#fb9f3a"
             ],
             [
              0.8888888888888888,
              "#fdca26"
             ],
             [
              1,
              "#f0f921"
             ]
            ],
            "type": "contour"
           }
          ],
          "contourcarpet": [
           {
            "colorbar": {
             "outlinewidth": 0,
             "ticks": ""
            },
            "type": "contourcarpet"
           }
          ],
          "heatmap": [
           {
            "colorbar": {
             "outlinewidth": 0,
             "ticks": ""
            },
            "colorscale": [
             [
              0,
              "#0d0887"
             ],
             [
              0.1111111111111111,
              "#46039f"
             ],
             [
              0.2222222222222222,
              "#7201a8"
             ],
             [
              0.3333333333333333,
              "#9c179e"
             ],
             [
              0.4444444444444444,
              "#bd3786"
             ],
             [
              0.5555555555555556,
              "#d8576b"
             ],
             [
              0.6666666666666666,
              "#ed7953"
             ],
             [
              0.7777777777777778,
              "#fb9f3a"
             ],
             [
              0.8888888888888888,
              "#fdca26"
             ],
             [
              1,
              "#f0f921"
             ]
            ],
            "type": "heatmap"
           }
          ],
          "heatmapgl": [
           {
            "colorbar": {
             "outlinewidth": 0,
             "ticks": ""
            },
            "colorscale": [
             [
              0,
              "#0d0887"
             ],
             [
              0.1111111111111111,
              "#46039f"
             ],
             [
              0.2222222222222222,
              "#7201a8"
             ],
             [
              0.3333333333333333,
              "#9c179e"
             ],
             [
              0.4444444444444444,
              "#bd3786"
             ],
             [
              0.5555555555555556,
              "#d8576b"
             ],
             [
              0.6666666666666666,
              "#ed7953"
             ],
             [
              0.7777777777777778,
              "#fb9f3a"
             ],
             [
              0.8888888888888888,
              "#fdca26"
             ],
             [
              1,
              "#f0f921"
             ]
            ],
            "type": "heatmapgl"
           }
          ],
          "histogram": [
           {
            "marker": {
             "pattern": {
              "fillmode": "overlay",
              "size": 10,
              "solidity": 0.2
             }
            },
            "type": "histogram"
           }
          ],
          "histogram2d": [
           {
            "colorbar": {
             "outlinewidth": 0,
             "ticks": ""
            },
            "colorscale": [
             [
              0,
              "#0d0887"
             ],
             [
              0.1111111111111111,
              "#46039f"
             ],
             [
              0.2222222222222222,
              "#7201a8"
             ],
             [
              0.3333333333333333,
              "#9c179e"
             ],
             [
              0.4444444444444444,
              "#bd3786"
             ],
             [
              0.5555555555555556,
              "#d8576b"
             ],
             [
              0.6666666666666666,
              "#ed7953"
             ],
             [
              0.7777777777777778,
              "#fb9f3a"
             ],
             [
              0.8888888888888888,
              "#fdca26"
             ],
             [
              1,
              "#f0f921"
             ]
            ],
            "type": "histogram2d"
           }
          ],
          "histogram2dcontour": [
           {
            "colorbar": {
             "outlinewidth": 0,
             "ticks": ""
            },
            "colorscale": [
             [
              0,
              "#0d0887"
             ],
             [
              0.1111111111111111,
              "#46039f"
             ],
             [
              0.2222222222222222,
              "#7201a8"
             ],
             [
              0.3333333333333333,
              "#9c179e"
             ],
             [
              0.4444444444444444,
              "#bd3786"
             ],
             [
              0.5555555555555556,
              "#d8576b"
             ],
             [
              0.6666666666666666,
              "#ed7953"
             ],
             [
              0.7777777777777778,
              "#fb9f3a"
             ],
             [
              0.8888888888888888,
              "#fdca26"
             ],
             [
              1,
              "#f0f921"
             ]
            ],
            "type": "histogram2dcontour"
           }
          ],
          "mesh3d": [
           {
            "colorbar": {
             "outlinewidth": 0,
             "ticks": ""
            },
            "type": "mesh3d"
           }
          ],
          "parcoords": [
           {
            "line": {
             "colorbar": {
              "outlinewidth": 0,
              "ticks": ""
             }
            },
            "type": "parcoords"
           }
          ],
          "pie": [
           {
            "automargin": true,
            "type": "pie"
           }
          ],
          "scatter": [
           {
            "marker": {
             "colorbar": {
              "outlinewidth": 0,
              "ticks": ""
             }
            },
            "type": "scatter"
           }
          ],
          "scatter3d": [
           {
            "line": {
             "colorbar": {
              "outlinewidth": 0,
              "ticks": ""
             }
            },
            "marker": {
             "colorbar": {
              "outlinewidth": 0,
              "ticks": ""
             }
            },
            "type": "scatter3d"
           }
          ],
          "scattercarpet": [
           {
            "marker": {
             "colorbar": {
              "outlinewidth": 0,
              "ticks": ""
             }
            },
            "type": "scattercarpet"
           }
          ],
          "scattergeo": [
           {
            "marker": {
             "colorbar": {
              "outlinewidth": 0,
              "ticks": ""
             }
            },
            "type": "scattergeo"
           }
          ],
          "scattergl": [
           {
            "marker": {
             "colorbar": {
              "outlinewidth": 0,
              "ticks": ""
             }
            },
            "type": "scattergl"
           }
          ],
          "scattermapbox": [
           {
            "marker": {
             "colorbar": {
              "outlinewidth": 0,
              "ticks": ""
             }
            },
            "type": "scattermapbox"
           }
          ],
          "scatterpolar": [
           {
            "marker": {
             "colorbar": {
              "outlinewidth": 0,
              "ticks": ""
             }
            },
            "type": "scatterpolar"
           }
          ],
          "scatterpolargl": [
           {
            "marker": {
             "colorbar": {
              "outlinewidth": 0,
              "ticks": ""
             }
            },
            "type": "scatterpolargl"
           }
          ],
          "scatterternary": [
           {
            "marker": {
             "colorbar": {
              "outlinewidth": 0,
              "ticks": ""
             }
            },
            "type": "scatterternary"
           }
          ],
          "surface": [
           {
            "colorbar": {
             "outlinewidth": 0,
             "ticks": ""
            },
            "colorscale": [
             [
              0,
              "#0d0887"
             ],
             [
              0.1111111111111111,
              "#46039f"
             ],
             [
              0.2222222222222222,
              "#7201a8"
             ],
             [
              0.3333333333333333,
              "#9c179e"
             ],
             [
              0.4444444444444444,
              "#bd3786"
             ],
             [
              0.5555555555555556,
              "#d8576b"
             ],
             [
              0.6666666666666666,
              "#ed7953"
             ],
             [
              0.7777777777777778,
              "#fb9f3a"
             ],
             [
              0.8888888888888888,
              "#fdca26"
             ],
             [
              1,
              "#f0f921"
             ]
            ],
            "type": "surface"
           }
          ],
          "table": [
           {
            "cells": {
             "fill": {
              "color": "#EBF0F8"
             },
             "line": {
              "color": "white"
             }
            },
            "header": {
             "fill": {
              "color": "#C8D4E3"
             },
             "line": {
              "color": "white"
             }
            },
            "type": "table"
           }
          ]
         },
         "layout": {
          "annotationdefaults": {
           "arrowcolor": "#2a3f5f",
           "arrowhead": 0,
           "arrowwidth": 1
          },
          "autotypenumbers": "strict",
          "coloraxis": {
           "colorbar": {
            "outlinewidth": 0,
            "ticks": ""
           }
          },
          "colorscale": {
           "diverging": [
            [
             0,
             "#8e0152"
            ],
            [
             0.1,
             "#c51b7d"
            ],
            [
             0.2,
             "#de77ae"
            ],
            [
             0.3,
             "#f1b6da"
            ],
            [
             0.4,
             "#fde0ef"
            ],
            [
             0.5,
             "#f7f7f7"
            ],
            [
             0.6,
             "#e6f5d0"
            ],
            [
             0.7,
             "#b8e186"
            ],
            [
             0.8,
             "#7fbc41"
            ],
            [
             0.9,
             "#4d9221"
            ],
            [
             1,
             "#276419"
            ]
           ],
           "sequential": [
            [
             0,
             "#0d0887"
            ],
            [
             0.1111111111111111,
             "#46039f"
            ],
            [
             0.2222222222222222,
             "#7201a8"
            ],
            [
             0.3333333333333333,
             "#9c179e"
            ],
            [
             0.4444444444444444,
             "#bd3786"
            ],
            [
             0.5555555555555556,
             "#d8576b"
            ],
            [
             0.6666666666666666,
             "#ed7953"
            ],
            [
             0.7777777777777778,
             "#fb9f3a"
            ],
            [
             0.8888888888888888,
             "#fdca26"
            ],
            [
             1,
             "#f0f921"
            ]
           ],
           "sequentialminus": [
            [
             0,
             "#0d0887"
            ],
            [
             0.1111111111111111,
             "#46039f"
            ],
            [
             0.2222222222222222,
             "#7201a8"
            ],
            [
             0.3333333333333333,
             "#9c179e"
            ],
            [
             0.4444444444444444,
             "#bd3786"
            ],
            [
             0.5555555555555556,
             "#d8576b"
            ],
            [
             0.6666666666666666,
             "#ed7953"
            ],
            [
             0.7777777777777778,
             "#fb9f3a"
            ],
            [
             0.8888888888888888,
             "#fdca26"
            ],
            [
             1,
             "#f0f921"
            ]
           ]
          },
          "colorway": [
           "#636efa",
           "#EF553B",
           "#00cc96",
           "#ab63fa",
           "#FFA15A",
           "#19d3f3",
           "#FF6692",
           "#B6E880",
           "#FF97FF",
           "#FECB52"
          ],
          "font": {
           "color": "#2a3f5f"
          },
          "geo": {
           "bgcolor": "white",
           "lakecolor": "white",
           "landcolor": "#E5ECF6",
           "showlakes": true,
           "showland": true,
           "subunitcolor": "white"
          },
          "hoverlabel": {
           "align": "left"
          },
          "hovermode": "closest",
          "mapbox": {
           "style": "light"
          },
          "paper_bgcolor": "white",
          "plot_bgcolor": "#E5ECF6",
          "polar": {
           "angularaxis": {
            "gridcolor": "white",
            "linecolor": "white",
            "ticks": ""
           },
           "bgcolor": "#E5ECF6",
           "radialaxis": {
            "gridcolor": "white",
            "linecolor": "white",
            "ticks": ""
           }
          },
          "scene": {
           "xaxis": {
            "backgroundcolor": "#E5ECF6",
            "gridcolor": "white",
            "gridwidth": 2,
            "linecolor": "white",
            "showbackground": true,
            "ticks": "",
            "zerolinecolor": "white"
           },
           "yaxis": {
            "backgroundcolor": "#E5ECF6",
            "gridcolor": "white",
            "gridwidth": 2,
            "linecolor": "white",
            "showbackground": true,
            "ticks": "",
            "zerolinecolor": "white"
           },
           "zaxis": {
            "backgroundcolor": "#E5ECF6",
            "gridcolor": "white",
            "gridwidth": 2,
            "linecolor": "white",
            "showbackground": true,
            "ticks": "",
            "zerolinecolor": "white"
           }
          },
          "shapedefaults": {
           "line": {
            "color": "#2a3f5f"
           }
          },
          "ternary": {
           "aaxis": {
            "gridcolor": "white",
            "linecolor": "white",
            "ticks": ""
           },
           "baxis": {
            "gridcolor": "white",
            "linecolor": "white",
            "ticks": ""
           },
           "bgcolor": "#E5ECF6",
           "caxis": {
            "gridcolor": "white",
            "linecolor": "white",
            "ticks": ""
           }
          },
          "title": {
           "x": 0.05
          },
          "xaxis": {
           "automargin": true,
           "gridcolor": "white",
           "linecolor": "white",
           "ticks": "",
           "title": {
            "standoff": 15
           },
           "zerolinecolor": "white",
           "zerolinewidth": 2
          },
          "yaxis": {
           "automargin": true,
           "gridcolor": "white",
           "linecolor": "white",
           "ticks": "",
           "title": {
            "standoff": 15
           },
           "zerolinecolor": "white",
           "zerolinewidth": 2
          }
         }
        },
        "xaxis": {
         "anchor": "y",
         "autorange": true,
         "domain": [
          0,
          1
         ],
         "range": [
          0.8118888317035512,
          4.188111168296449
         ],
         "title": {
          "text": "a"
         },
         "type": "linear"
        },
        "yaxis": {
         "anchor": "x",
         "autorange": true,
         "domain": [
          0,
          1
         ],
         "range": [
          1.5354330708661417,
          8.464566929133857
         ],
         "title": {
          "text": "b"
         },
         "type": "linear"
        }
       }
      },
      "image/png": "[encoded data removed]",
      "text/html": [
       "<div>                            <div id=\"cb3d3a67-9448-4a83-a05b-f363b0648f31\" class=\"plotly-graph-div\" style=\"height:525px; width:100%;\"></div>            <script type=\"text/javascript\">                require([\"plotly\"], function(Plotly) {                    window.PLOTLYENV=window.PLOTLYENV || {};                                    if (document.getElementById(\"cb3d3a67-9448-4a83-a05b-f363b0648f31\")) {                    Plotly.newPlot(                        \"cb3d3a67-9448-4a83-a05b-f363b0648f31\",                        [{\"hovertemplate\":\"a=%{x}<br>b=%{y}<br>cluster=%{marker.color}<extra></extra>\",\"legendgroup\":\"\",\"marker\":{\"color\":[1,0,1,0],\"coloraxis\":\"coloraxis\",\"symbol\":\"circle\"},\"mode\":\"markers\",\"name\":\"\",\"orientation\":\"v\",\"showlegend\":false,\"x\":[1,2,3,4],\"xaxis\":\"x\",\"y\":[2,8,4,6],\"yaxis\":\"y\",\"type\":\"scatter\"}],                        {\"template\":{\"data\":{\"bar\":[{\"error_x\":{\"color\":\"#2a3f5f\"},\"error_y\":{\"color\":\"#2a3f5f\"},\"marker\":{\"line\":{\"color\":\"#E5ECF6\",\"width\":0.5},\"pattern\":{\"fillmode\":\"overlay\",\"size\":10,\"solidity\":0.2}},\"type\":\"bar\"}],\"barpolar\":[{\"marker\":{\"line\":{\"color\":\"#E5ECF6\",\"width\":0.5},\"pattern\":{\"fillmode\":\"overlay\",\"size\":10,\"solidity\":0.2}},\"type\":\"barpolar\"}],\"carpet\":[{\"aaxis\":{\"endlinecolor\":\"#2a3f5f\",\"gridcolor\":\"white\",\"linecolor\":\"white\",\"minorgridcolor\":\"white\",\"startlinecolor\":\"#2a3f5f\"},\"baxis\":{\"endlinecolor\":\"#2a3f5f\",\"gridcolor\":\"white\",\"linecolor\":\"white\",\"minorgridcolor\":\"white\",\"startlinecolor\":\"#2a3f5f\"},\"type\":\"carpet\"}],\"choropleth\":[{\"colorbar\":{\"outlinewidth\":0,\"ticks\":\"\"},\"type\":\"choropleth\"}],\"contour\":[{\"colorbar\":{\"outlinewidth\":0,\"ticks\":\"\"},\"colorscale\":[[0.0,\"#0d0887\"],[0.1111111111111111,\"#46039f\"],[0.2222222222222222,\"#7201a8\"],[0.3333333333333333,\"#9c179e\"],[0.4444444444444444,\"#bd3786\"],[0.5555555555555556,\"#d8576b\"],[0.6666666666666666,\"#ed7953\"],[0.7777777777777778,\"#fb9f3a\"],[0.8888888888888888,\"#fdca26\"],[1.0,\"#f0f921\"]],\"type\":\"contour\"}],\"contourcarpet\":[{\"colorbar\":{\"outlinewidth\":0,\"ticks\":\"\"},\"type\":\"contourcarpet\"}],\"heatmap\":[{\"colorbar\":{\"outlinewidth\":0,\"ticks\":\"\"},\"colorscale\":[[0.0,\"#0d0887\"],[0.1111111111111111,\"#46039f\"],[0.2222222222222222,\"#7201a8\"],[0.3333333333333333,\"#9c179e\"],[0.4444444444444444,\"#bd3786\"],[0.5555555555555556,\"#d8576b\"],[0.6666666666666666,\"#ed7953\"],[0.7777777777777778,\"#fb9f3a\"],[0.8888888888888888,\"#fdca26\"],[1.0,\"#f0f921\"]],\"type\":\"heatmap\"}],\"heatmapgl\":[{\"colorbar\":{\"outlinewidth\":0,\"ticks\":\"\"},\"colorscale\":[[0.0,\"#0d0887\"],[0.1111111111111111,\"#46039f\"],[0.2222222222222222,\"#7201a8\"],[0.3333333333333333,\"#9c179e\"],[0.4444444444444444,\"#bd3786\"],[0.5555555555555556,\"#d8576b\"],[0.6666666666666666,\"#ed7953\"],[0.7777777777777778,\"#fb9f3a\"],[0.8888888888888888,\"#fdca26\"],[1.0,\"#f0f921\"]],\"type\":\"heatmapgl\"}],\"histogram\":[{\"marker\":{\"pattern\":{\"fillmode\":\"overlay\",\"size\":10,\"solidity\":0.2}},\"type\":\"histogram\"}],\"histogram2d\":[{\"colorbar\":{\"outlinewidth\":0,\"ticks\":\"\"},\"colorscale\":[[0.0,\"#0d0887\"],[0.1111111111111111,\"#46039f\"],[0.2222222222222222,\"#7201a8\"],[0.3333333333333333,\"#9c179e\"],[0.4444444444444444,\"#bd3786\"],[0.5555555555555556,\"#d8576b\"],[0.6666666666666666,\"#ed7953\"],[0.7777777777777778,\"#fb9f3a\"],[0.8888888888888888,\"#fdca26\"],[1.0,\"#f0f921\"]],\"type\":\"histogram2d\"}],\"histogram2dcontour\":[{\"colorbar\":{\"outlinewidth\":0,\"ticks\":\"\"},\"colorscale\":[[0.0,\"#0d0887\"],[0.1111111111111111,\"#46039f\"],[0.2222222222222222,\"#7201a8\"],[0.3333333333333333,\"#9c179e\"],[0.4444444444444444,\"#bd3786\"],[0.5555555555555556,\"#d8576b\"],[0.6666666666666666,\"#ed7953\"],[0.7777777777777778,\"#fb9f3a\"],[0.8888888888888888,\"#fdca26\"],[1.0,\"#f0f921\"]],\"type\":\"histogram2dcontour\"}],\"mesh3d\":[{\"colorbar\":{\"outlinewidth\":0,\"ticks\":\"\"},\"type\":\"mesh3d\"}],\"parcoords\":[{\"line\":{\"colorbar\":{\"outlinewidth\":0,\"ticks\":\"\"}},\"type\":\"parcoords\"}],\"pie\":[{\"automargin\":true,\"type\":\"pie\"}],\"scatter\":[{\"marker\":{\"colorbar\":{\"outlinewidth\":0,\"ticks\":\"\"}},\"type\":\"scatter\"}],\"scatter3d\":[{\"line\":{\"colorbar\":{\"outlinewidth\":0,\"ticks\":\"\"}},\"marker\":{\"colorbar\":{\"outlinewidth\":0,\"ticks\":\"\"}},\"type\":\"scatter3d\"}],\"scattercarpet\":[{\"marker\":{\"colorbar\":{\"outlinewidth\":0,\"ticks\":\"\"}},\"type\":\"scattercarpet\"}],\"scattergeo\":[{\"marker\":{\"colorbar\":{\"outlinewidth\":0,\"ticks\":\"\"}},\"type\":\"scattergeo\"}],\"scattergl\":[{\"marker\":{\"colorbar\":{\"outlinewidth\":0,\"ticks\":\"\"}},\"type\":\"scattergl\"}],\"scattermapbox\":[{\"marker\":{\"colorbar\":{\"outlinewidth\":0,\"ticks\":\"\"}},\"type\":\"scattermapbox\"}],\"scatterpolar\":[{\"marker\":{\"colorbar\":{\"outlinewidth\":0,\"ticks\":\"\"}},\"type\":\"scatterpolar\"}],\"scatterpolargl\":[{\"marker\":{\"colorbar\":{\"outlinewidth\":0,\"ticks\":\"\"}},\"type\":\"scatterpolargl\"}],\"scatterternary\":[{\"marker\":{\"colorbar\":{\"outlinewidth\":0,\"ticks\":\"\"}},\"type\":\"scatterternary\"}],\"surface\":[{\"colorbar\":{\"outlinewidth\":0,\"ticks\":\"\"},\"colorscale\":[[0.0,\"#0d0887\"],[0.1111111111111111,\"#46039f\"],[0.2222222222222222,\"#7201a8\"],[0.3333333333333333,\"#9c179e\"],[0.4444444444444444,\"#bd3786\"],[0.5555555555555556,\"#d8576b\"],[0.6666666666666666,\"#ed7953\"],[0.7777777777777778,\"#fb9f3a\"],[0.8888888888888888,\"#fdca26\"],[1.0,\"#f0f921\"]],\"type\":\"surface\"}],\"table\":[{\"cells\":{\"fill\":{\"color\":\"#EBF0F8\"},\"line\":{\"color\":\"white\"}},\"header\":{\"fill\":{\"color\":\"#C8D4E3\"},\"line\":{\"color\":\"white\"}},\"type\":\"table\"}]},\"layout\":{\"annotationdefaults\":{\"arrowcolor\":\"#2a3f5f\",\"arrowhead\":0,\"arrowwidth\":1},\"autotypenumbers\":\"strict\",\"coloraxis\":{\"colorbar\":{\"outlinewidth\":0,\"ticks\":\"\"}},\"colorscale\":{\"diverging\":[[0,\"#8e0152\"],[0.1,\"#c51b7d\"],[0.2,\"#de77ae\"],[0.3,\"#f1b6da\"],[0.4,\"#fde0ef\"],[0.5,\"#f7f7f7\"],[0.6,\"#e6f5d0\"],[0.7,\"#b8e186\"],[0.8,\"#7fbc41\"],[0.9,\"#4d9221\"],[1,\"#276419\"]],\"sequential\":[[0.0,\"#0d0887\"],[0.1111111111111111,\"#46039f\"],[0.2222222222222222,\"#7201a8\"],[0.3333333333333333,\"#9c179e\"],[0.4444444444444444,\"#bd3786\"],[0.5555555555555556,\"#d8576b\"],[0.6666666666666666,\"#ed7953\"],[0.7777777777777778,\"#fb9f3a\"],[0.8888888888888888,\"#fdca26\"],[1.0,\"#f0f921\"]],\"sequentialminus\":[[0.0,\"#0d0887\"],[0.1111111111111111,\"#46039f\"],[0.2222222222222222,\"#7201a8\"],[0.3333333333333333,\"#9c179e\"],[0.4444444444444444,\"#bd3786\"],[0.5555555555555556,\"#d8576b\"],[0.6666666666666666,\"#ed7953\"],[0.7777777777777778,\"#fb9f3a\"],[0.8888888888888888,\"#fdca26\"],[1.0,\"#f0f921\"]]},\"colorway\":[\"#636efa\",\"#EF553B\",\"#00cc96\",\"#ab63fa\",\"#FFA15A\",\"#19d3f3\",\"#FF6692\",\"#B6E880\",\"#FF97FF\",\"#FECB52\"],\"font\":{\"color\":\"#2a3f5f\"},\"geo\":{\"bgcolor\":\"white\",\"lakecolor\":\"white\",\"landcolor\":\"#E5ECF6\",\"showlakes\":true,\"showland\":true,\"subunitcolor\":\"white\"},\"hoverlabel\":{\"align\":\"left\"},\"hovermode\":\"closest\",\"mapbox\":{\"style\":\"light\"},\"paper_bgcolor\":\"white\",\"plot_bgcolor\":\"#E5ECF6\",\"polar\":{\"angularaxis\":{\"gridcolor\":\"white\",\"linecolor\":\"white\",\"ticks\":\"\"},\"bgcolor\":\"#E5ECF6\",\"radialaxis\":{\"gridcolor\":\"white\",\"linecolor\":\"white\",\"ticks\":\"\"}},\"scene\":{\"xaxis\":{\"backgroundcolor\":\"#E5ECF6\",\"gridcolor\":\"white\",\"gridwidth\":2,\"linecolor\":\"white\",\"showbackground\":true,\"ticks\":\"\",\"zerolinecolor\":\"white\"},\"yaxis\":{\"backgroundcolor\":\"#E5ECF6\",\"gridcolor\":\"white\",\"gridwidth\":2,\"linecolor\":\"white\",\"showbackground\":true,\"ticks\":\"\",\"zerolinecolor\":\"white\"},\"zaxis\":{\"backgroundcolor\":\"#E5ECF6\",\"gridcolor\":\"white\",\"gridwidth\":2,\"linecolor\":\"white\",\"showbackground\":true,\"ticks\":\"\",\"zerolinecolor\":\"white\"}},\"shapedefaults\":{\"line\":{\"color\":\"#2a3f5f\"}},\"ternary\":{\"aaxis\":{\"gridcolor\":\"white\",\"linecolor\":\"white\",\"ticks\":\"\"},\"baxis\":{\"gridcolor\":\"white\",\"linecolor\":\"white\",\"ticks\":\"\"},\"bgcolor\":\"#E5ECF6\",\"caxis\":{\"gridcolor\":\"white\",\"linecolor\":\"white\",\"ticks\":\"\"}},\"title\":{\"x\":0.05},\"xaxis\":{\"automargin\":true,\"gridcolor\":\"white\",\"linecolor\":\"white\",\"ticks\":\"\",\"title\":{\"standoff\":15},\"zerolinecolor\":\"white\",\"zerolinewidth\":2},\"yaxis\":{\"automargin\":true,\"gridcolor\":\"white\",\"linecolor\":\"white\",\"ticks\":\"\",\"title\":{\"standoff\":15},\"zerolinecolor\":\"white\",\"zerolinewidth\":2}}},\"xaxis\":{\"anchor\":\"y\",\"domain\":[0.0,1.0],\"title\":{\"text\":\"a\"}},\"yaxis\":{\"anchor\":\"x\",\"domain\":[0.0,1.0],\"title\":{\"text\":\"b\"}},\"coloraxis\":{\"colorbar\":{\"title\":{\"text\":\"cluster\"}},\"colorscale\":[[0.0,\"#0d0887\"],[0.1111111111111111,\"#46039f\"],[0.2222222222222222,\"#7201a8\"],[0.3333333333333333,\"#9c179e\"],[0.4444444444444444,\"#bd3786\"],[0.5555555555555556,\"#d8576b\"],[0.6666666666666666,\"#ed7953\"],[0.7777777777777778,\"#fb9f3a\"],[0.8888888888888888,\"#fdca26\"],[1.0,\"#f0f921\"]]},\"legend\":{\"tracegroupgap\":0},\"margin\":{\"t\":60}},                        {\"responsive\": true}                    ).then(function(){\n",
       "                            \n",
       "var gd = document.getElementById('cb3d3a67-9448-4a83-a05b-f363b0648f31');\n",
       "var x = new MutationObserver(function (mutations, observer) {{\n",
       "        var display = window.getComputedStyle(gd).display;\n",
       "        if (!display || display === 'none') {{\n",
       "            console.log([gd, 'removed!']);\n",
       "            Plotly.purge(gd);\n",
       "            observer.disconnect();\n",
       "        }}\n",
       "}});\n",
       "\n",
       "// Listen for the removal of the full notebook cells\n",
       "var notebookContainer = gd.closest('#notebook-container');\n",
       "if (notebookContainer) {{\n",
       "    x.observe(notebookContainer, {childList: true});\n",
       "}}\n",
       "\n",
       "// Listen for the clearing of the current output cell\n",
       "var outputEl = gd.closest('.output');\n",
       "if (outputEl) {{\n",
       "    x.observe(outputEl, {childList: true});\n",
       "}}\n",
       "\n",
       "                        })                };                });            </script>        </div>"
      ]
     },
     "metadata": {},
     "output_type": "display_data"
    }
   ],
   "source": [
    "px.scatter(df[df['c']== 'Entidad'], x='a', y='b', color='cluster')"
   ]
  },
  {
   "cell_type": "code",
   "execution_count": null,
   "id": "04fd65fa-0be0-4cdd-b0cb-f13f7217b92c",
   "metadata": {},
   "outputs": [],
   "source": []
  },
  {
   "cell_type": "markdown",
   "id": "50ddfebc-8c72-4c7f-9460-903e94f37d14",
   "metadata": {},
   "source": [
    "### Validación del Modelo"
   ]
  },
  {
   "cell_type": "code",
   "execution_count": null,
   "id": "6fcd7a22-f630-4129-b154-3583f41082f9",
   "metadata": {},
   "outputs": [],
   "source": [
    "models = [linreg, lasso, ridge, elastic, rfr, xgbr, lgbmr]\n",
    "model_names = ['linreg', 'lasso', 'ridge', 'elastic', 'rfr', 'xgbr', 'lgbmr']\n",
    "preds=[y_pred_linreg, y_pred_lasso, y_pred_ridge, y_pred_elastic, y_pred_rfr, y_pred_xgbr, y_pred_lgbmr]"
   ]
  },
  {
   "cell_type": "code",
   "execution_count": null,
   "id": "dd894198-cba3-4121-89d1-a0114450d2de",
   "metadata": {},
   "outputs": [],
   "source": [
    "for i in range(len(models)):\n",
    "\n",
    "    train_score = models[i].score(X_train, y_train) #R2\n",
    "    test_score = models[i].score(X_test, y_test)\n",
    "\n",
    "    print ('Model: {}, train R2: {} -- test R2: {}'.format(model_names[i], train_score, test_score))"
   ]
  },
  {
   "cell_type": "code",
   "execution_count": null,
   "id": "b4bc1539-d76c-46eb-ad08-fc8ac2fe2e5d",
   "metadata": {},
   "outputs": [],
   "source": [
    "from sklearn.metrics import mean_absolute_error as mae\n",
    "for i in range(len(models)):\n",
    "    train_mae=mae(models[i].predict(X_train), y_train) #MAE\n",
    "    test_mae=mae(preds[i], y_test)\n",
    "\n",
    "    print ('Model: {}, train MAE: {} -- test MAE: {}'.format(model_names[i], train_mae, test_mae))"
   ]
  },
  {
   "cell_type": "markdown",
   "id": "b855dba0-3160-4643-8269-ca4631b8ae67",
   "metadata": {},
   "source": [
    "### Conclusiones"
   ]
  },
  {
   "cell_type": "code",
   "execution_count": null,
   "id": "c89dce95-3ceb-4c04-ac68-c73665722397",
   "metadata": {},
   "outputs": [],
   "source": []
  }
 ],
 "metadata": {
  "kernelspec": {
   "display_name": "Python 3 (ipykernel)",
   "language": "python",
   "name": "python3"
  },
  "language_info": {
   "codemirror_mode": {
    "name": "ipython",
    "version": 3
   },
   "file_extension": ".py",
   "mimetype": "text/x-python",
   "name": "python",
   "nbconvert_exporter": "python",
   "pygments_lexer": "ipython3",
   "version": "3.9.12"
  }
 },
 "nbformat": 4,
 "nbformat_minor": 5
}
