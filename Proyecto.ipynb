{
 "cells": [
  {
   "cell_type": "markdown",
   "metadata": {},
   "source": [
    "### Proyecto Final"
   ]
  },
  {
   "cell_type": "markdown",
   "metadata": {},
   "source": [
    "* Lunes 5/12 ó Miércoles 7/12: **Pitch de 1 minuto** exponiendo la idea de proyecto y calendarización\n",
    "* Jueves 15/12: One-to-ones **seguimiento** personalizado\n",
    "* Miércoles 21/12: **Entrega** de los proyectos en el repositorio con toda la documentación.\n",
    "* Jueves 22/12: **Presentación** de los proyectos (**5 minutos** cronometrados). **Fin BOOTCAMP**."
   ]
  },
  {
   "cell_type": "markdown",
   "metadata": {},
   "source": [
    "![](calendario_dec22.png)"
   ]
  }
 ],
 "metadata": {
  "kernelspec": {
   "display_name": "Python 3",
   "language": "python",
   "name": "python3"
  },
  "language_info": {
   "codemirror_mode": {
    "name": "ipython",
    "version": 3
   },
   "file_extension": ".py",
   "mimetype": "text/x-python",
   "name": "python",
   "nbconvert_exporter": "python",
   "pygments_lexer": "ipython3",
   "version": "3.7.0"
  }
 },
 "nbformat": 4,
 "nbformat_minor": 4
}
